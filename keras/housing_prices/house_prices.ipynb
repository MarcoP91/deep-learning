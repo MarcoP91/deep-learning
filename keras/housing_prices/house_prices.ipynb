{
 "cells": [
  {
   "cell_type": "markdown",
   "metadata": {},
   "source": [
    " # Predicting continuous variables \n",
    " Using Boston housing prices dataset"
   ]
  },
  {
   "cell_type": "code",
   "execution_count": 39,
   "metadata": {},
   "outputs": [],
   "source": [
    "import numpy as np\n",
    "import pandas as pd\n",
    "import matplotlib.pyplot as plt\n",
    "\n",
    "import keras\n",
    "from keras import optimizers\n",
    "from keras.models import Sequential\n",
    "from keras.layers import Dense\n",
    "from keras.wrappers.scikit_learn import KerasRegressor\n",
    "\n",
    "\n",
    "from sklearn.model_selection import cross_val_score\n",
    "from sklearn.model_selection import KFold\n",
    "\n",
    "from sklearn.preprocessing import StandardScaler\n",
    "from sklearn.pipeline import Pipeline"
   ]
  },
  {
   "cell_type": "code",
   "execution_count": 2,
   "metadata": {
    "scrolled": true
   },
   "outputs": [
    {
     "data": {
      "text/plain": [
       "(array([2.1770e-02, 8.2500e+01, 2.0300e+00, 0.0000e+00, 4.1500e-01,\n",
       "        7.6100e+00, 1.5700e+01, 6.2700e+00, 2.0000e+00, 3.4800e+02,\n",
       "        1.4700e+01, 3.9538e+02, 3.1100e+00]), 42.3)"
      ]
     },
     "execution_count": 2,
     "metadata": {},
     "output_type": "execute_result"
    }
   ],
   "source": [
    "from keras.datasets import boston_housing\n",
    "(x_train, y_train),(x_test,y_test)=boston_housing.load_data()\n",
    "x_train[1], y_train[1]"
   ]
  },
  {
   "cell_type": "code",
   "execution_count": 3,
   "metadata": {},
   "outputs": [
    {
     "data": {
      "text/plain": [
       "{'CRIM': 'Per capita crime rate.',\n",
       " 'ZN': 'The proportion of residential land zoned for lots over 25,000 square feet.',\n",
       " 'INDUS': 'The proportion of non-retail business acres per town.',\n",
       " 'CHAS': 'Charles River dummy variable (= 1 if tract bounds river; 0 otherwise).',\n",
       " 'NOX': 'Nitric oxides concentration (parts per 10 million).',\n",
       " 'RM': 'The average number of rooms per dwelling.',\n",
       " 'AGE': 'The proportion of owner-occupied units built before 1940.',\n",
       " 'DIS': 'Weighted distances to five Boston employment centers.',\n",
       " 'RAD': 'Index of accessibility to radial highways.',\n",
       " 'TAX': 'Full-value property-tax rate per $10,000.',\n",
       " 'PTRATIO': 'Pupil-teacher ratio by town.',\n",
       " 'B': '1000 * (Bk - 0.63) ** 2 where Bk is the proportion of Black people by town.',\n",
       " 'LSTAT': 'Percentage lower status of the population.'}"
      ]
     },
     "execution_count": 3,
     "metadata": {},
     "output_type": "execute_result"
    }
   ],
   "source": [
    "column_names = ['CRIM', 'ZN', 'INDUS', 'CHAS', 'NOX', 'RM', 'AGE', 'DIS', 'RAD',\n",
    "                'TAX', 'PTRATIO', 'B', 'LSTAT']\n",
    "\n",
    "key = ['Per capita crime rate.',\n",
    "'The proportion of residential land zoned for lots over 25,000 square feet.',\n",
    "'The proportion of non-retail business acres per town.',\n",
    "'Charles River dummy variable (= 1 if tract bounds river; 0 otherwise).',\n",
    "'Nitric oxides concentration (parts per 10 million).',\n",
    "'The average number of rooms per dwelling.',\n",
    "'The proportion of owner-occupied units built before 1940.',\n",
    "'Weighted distances to five Boston employment centers.',\n",
    "'Index of accessibility to radial highways.',\n",
    "'Full-value property-tax rate per $10,000.',\n",
    "'Pupil-teacher ratio by town.',\n",
    "'1000 * (Bk - 0.63) ** 2 where Bk is the proportion of Black people by town.',\n",
    "'Percentage lower status of the population.']\n",
    "\n",
    "col_index = dict(zip(column_names, key))\n",
    "col_index"
   ]
  },
  {
   "cell_type": "code",
   "execution_count": 4,
   "metadata": {},
   "outputs": [
    {
     "data": {
      "text/plain": [
       "((506, 13), (506,))"
      ]
     },
     "execution_count": 4,
     "metadata": {},
     "output_type": "execute_result"
    }
   ],
   "source": [
    "#To perform K-fold cross validation\n",
    "#Concatnate train and test set into one single dataset\n",
    "\n",
    "x_train = np.concatenate((x_train,x_test), axis=0)\n",
    "y_train = np.concatenate((y_train,y_test), axis=0)\n",
    "\n",
    "x_train.shape, y_train.shape"
   ]
  },
  {
   "cell_type": "code",
   "execution_count": 5,
   "metadata": {
    "scrolled": true
   },
   "outputs": [
    {
     "data": {
      "text/html": [
       "<div>\n",
       "<style scoped>\n",
       "    .dataframe tbody tr th:only-of-type {\n",
       "        vertical-align: middle;\n",
       "    }\n",
       "\n",
       "    .dataframe tbody tr th {\n",
       "        vertical-align: top;\n",
       "    }\n",
       "\n",
       "    .dataframe thead th {\n",
       "        text-align: right;\n",
       "    }\n",
       "</style>\n",
       "<table border=\"1\" class=\"dataframe\">\n",
       "  <thead>\n",
       "    <tr style=\"text-align: right;\">\n",
       "      <th></th>\n",
       "      <th>CRIM</th>\n",
       "      <th>ZN</th>\n",
       "      <th>INDUS</th>\n",
       "      <th>CHAS</th>\n",
       "      <th>NOX</th>\n",
       "      <th>RM</th>\n",
       "      <th>AGE</th>\n",
       "      <th>DIS</th>\n",
       "      <th>RAD</th>\n",
       "      <th>TAX</th>\n",
       "      <th>PTRATIO</th>\n",
       "      <th>B</th>\n",
       "      <th>LSTAT</th>\n",
       "    </tr>\n",
       "  </thead>\n",
       "  <tbody>\n",
       "    <tr>\n",
       "      <th>0</th>\n",
       "      <td>1.23247</td>\n",
       "      <td>0.0</td>\n",
       "      <td>8.14</td>\n",
       "      <td>0.0</td>\n",
       "      <td>0.538</td>\n",
       "      <td>6.142</td>\n",
       "      <td>91.7</td>\n",
       "      <td>3.9769</td>\n",
       "      <td>4.0</td>\n",
       "      <td>307.0</td>\n",
       "      <td>21.0</td>\n",
       "      <td>396.90</td>\n",
       "      <td>18.72</td>\n",
       "    </tr>\n",
       "    <tr>\n",
       "      <th>1</th>\n",
       "      <td>0.02177</td>\n",
       "      <td>82.5</td>\n",
       "      <td>2.03</td>\n",
       "      <td>0.0</td>\n",
       "      <td>0.415</td>\n",
       "      <td>7.610</td>\n",
       "      <td>15.7</td>\n",
       "      <td>6.2700</td>\n",
       "      <td>2.0</td>\n",
       "      <td>348.0</td>\n",
       "      <td>14.7</td>\n",
       "      <td>395.38</td>\n",
       "      <td>3.11</td>\n",
       "    </tr>\n",
       "    <tr>\n",
       "      <th>2</th>\n",
       "      <td>4.89822</td>\n",
       "      <td>0.0</td>\n",
       "      <td>18.10</td>\n",
       "      <td>0.0</td>\n",
       "      <td>0.631</td>\n",
       "      <td>4.970</td>\n",
       "      <td>100.0</td>\n",
       "      <td>1.3325</td>\n",
       "      <td>24.0</td>\n",
       "      <td>666.0</td>\n",
       "      <td>20.2</td>\n",
       "      <td>375.52</td>\n",
       "      <td>3.26</td>\n",
       "    </tr>\n",
       "    <tr>\n",
       "      <th>3</th>\n",
       "      <td>0.03961</td>\n",
       "      <td>0.0</td>\n",
       "      <td>5.19</td>\n",
       "      <td>0.0</td>\n",
       "      <td>0.515</td>\n",
       "      <td>6.037</td>\n",
       "      <td>34.5</td>\n",
       "      <td>5.9853</td>\n",
       "      <td>5.0</td>\n",
       "      <td>224.0</td>\n",
       "      <td>20.2</td>\n",
       "      <td>396.90</td>\n",
       "      <td>8.01</td>\n",
       "    </tr>\n",
       "    <tr>\n",
       "      <th>4</th>\n",
       "      <td>3.69311</td>\n",
       "      <td>0.0</td>\n",
       "      <td>18.10</td>\n",
       "      <td>0.0</td>\n",
       "      <td>0.713</td>\n",
       "      <td>6.376</td>\n",
       "      <td>88.4</td>\n",
       "      <td>2.5671</td>\n",
       "      <td>24.0</td>\n",
       "      <td>666.0</td>\n",
       "      <td>20.2</td>\n",
       "      <td>391.43</td>\n",
       "      <td>14.65</td>\n",
       "    </tr>\n",
       "  </tbody>\n",
       "</table>\n",
       "</div>"
      ],
      "text/plain": [
       "      CRIM    ZN  INDUS  CHAS    NOX     RM    AGE     DIS   RAD    TAX  \\\n",
       "0  1.23247   0.0   8.14   0.0  0.538  6.142   91.7  3.9769   4.0  307.0   \n",
       "1  0.02177  82.5   2.03   0.0  0.415  7.610   15.7  6.2700   2.0  348.0   \n",
       "2  4.89822   0.0  18.10   0.0  0.631  4.970  100.0  1.3325  24.0  666.0   \n",
       "3  0.03961   0.0   5.19   0.0  0.515  6.037   34.5  5.9853   5.0  224.0   \n",
       "4  3.69311   0.0  18.10   0.0  0.713  6.376   88.4  2.5671  24.0  666.0   \n",
       "\n",
       "   PTRATIO       B  LSTAT  \n",
       "0     21.0  396.90  18.72  \n",
       "1     14.7  395.38   3.11  \n",
       "2     20.2  375.52   3.26  \n",
       "3     20.2  396.90   8.01  \n",
       "4     20.2  391.43  14.65  "
      ]
     },
     "execution_count": 5,
     "metadata": {},
     "output_type": "execute_result"
    }
   ],
   "source": [
    "df = pd.DataFrame(x_train, columns=column_names)\n",
    "df.head()"
   ]
  },
  {
   "cell_type": "code",
   "execution_count": 6,
   "metadata": {},
   "outputs": [
    {
     "name": "stdout",
     "output_type": "stream",
     "text": [
      "[-0.2770909  -0.48772236 -0.43725801 -0.27259857 -0.14421743 -0.20320532\n",
      "  0.82234174  0.08644935 -0.6379618  -0.6012761   1.17646583  0.44105193\n",
      "  0.85042548]\n"
     ]
    }
   ],
   "source": [
    "mean = x_train.mean(axis=0)\n",
    "std = x_train.std(axis=0)\n",
    "x_train = (x_train-mean)/std\n",
    "x_test = (x_test-mean)/std\n",
    "print(x_train[0]) #First Training sample, normalized"
   ]
  },
  {
   "cell_type": "markdown",
   "metadata": {},
   "source": [
    "Since a continuous variable is predicted, there is no activation layer at the last level, and only 1 neuron <br>\n",
    "MAE will be used as metric for understandability, as the MSE is difficult to interpretate for humans"
   ]
  },
  {
   "cell_type": "code",
   "execution_count": 79,
   "metadata": {
    "scrolled": false
   },
   "outputs": [],
   "source": [
    "model = Sequential()\n",
    "model.add(Dense(26, activation = 'relu', input_shape = (13,)))\n",
    "model.add(Dense(26, activation = 'relu'))\n",
    "model.add(Dense(12, activation = 'relu'))\n",
    "model.add(Dense(1))"
   ]
  },
  {
   "cell_type": "code",
   "execution_count": 80,
   "metadata": {},
   "outputs": [
    {
     "name": "stdout",
     "output_type": "stream",
     "text": [
      "_________________________________________________________________\n",
      "Layer (type)                 Output Shape              Param #   \n",
      "=================================================================\n",
      "dense_55 (Dense)             (None, 26)                364       \n",
      "_________________________________________________________________\n",
      "dense_56 (Dense)             (None, 26)                702       \n",
      "_________________________________________________________________\n",
      "dense_57 (Dense)             (None, 12)                324       \n",
      "_________________________________________________________________\n",
      "dense_58 (Dense)             (None, 1)                 13        \n",
      "=================================================================\n",
      "Total params: 1,403\n",
      "Trainable params: 1,403\n",
      "Non-trainable params: 0\n",
      "_________________________________________________________________\n"
     ]
    }
   ],
   "source": [
    "model.compile(optimizer = optimizers.RMSprop(lr=0.001),loss = 'mse', metrics=['mae'])\n",
    "model.summary()"
   ]
  },
  {
   "cell_type": "code",
   "execution_count": 81,
   "metadata": {},
   "outputs": [
    {
     "name": "stdout",
     "output_type": "stream",
     "text": [
      "Train on 506 samples, validate on 102 samples\n",
      "Epoch 1/200\n",
      "506/506 [==============================] - 0s 731us/step - loss: 578.2645 - mean_absolute_error: 22.1953 - val_loss: 587.5541 - val_mean_absolute_error: 22.4141\n",
      "Epoch 2/200\n",
      "506/506 [==============================] - 0s 42us/step - loss: 554.5571 - mean_absolute_error: 21.6233 - val_loss: 564.7923 - val_mean_absolute_error: 21.8744\n",
      "Epoch 3/200\n",
      "506/506 [==============================] - 0s 37us/step - loss: 530.2175 - mean_absolute_error: 21.0120 - val_loss: 536.6338 - val_mean_absolute_error: 21.1820\n",
      "Epoch 4/200\n",
      "506/506 [==============================] - 0s 42us/step - loss: 498.7071 - mean_absolute_error: 20.2129 - val_loss: 498.4026 - val_mean_absolute_error: 20.2223\n",
      "Epoch 5/200\n",
      "506/506 [==============================] - 0s 38us/step - loss: 456.6799 - mean_absolute_error: 19.1174 - val_loss: 450.2059 - val_mean_absolute_error: 19.0018\n",
      "Epoch 6/200\n",
      "506/506 [==============================] - 0s 41us/step - loss: 408.0132 - mean_absolute_error: 17.8383 - val_loss: 398.5810 - val_mean_absolute_error: 17.6460\n",
      "Epoch 7/200\n",
      "506/506 [==============================] - 0s 37us/step - loss: 355.7313 - mean_absolute_error: 16.4425 - val_loss: 342.4590 - val_mean_absolute_error: 16.2218\n",
      "Epoch 8/200\n",
      "506/506 [==============================] - 0s 36us/step - loss: 301.7736 - mean_absolute_error: 14.9689 - val_loss: 289.1918 - val_mean_absolute_error: 14.8275\n",
      "Epoch 9/200\n",
      "506/506 [==============================] - 0s 36us/step - loss: 250.0463 - mean_absolute_error: 13.4613 - val_loss: 233.1240 - val_mean_absolute_error: 13.1237\n",
      "Epoch 10/200\n",
      "506/506 [==============================] - 0s 32us/step - loss: 198.6232 - mean_absolute_error: 11.8692 - val_loss: 187.1411 - val_mean_absolute_error: 11.6679\n",
      "Epoch 11/200\n",
      "506/506 [==============================] - 0s 37us/step - loss: 155.7619 - mean_absolute_error: 10.3788 - val_loss: 143.2572 - val_mean_absolute_error: 10.2203\n",
      "Epoch 12/200\n",
      "506/506 [==============================] - 0s 34us/step - loss: 118.5527 - mean_absolute_error: 8.9997 - val_loss: 110.6465 - val_mean_absolute_error: 8.9642\n",
      "Epoch 13/200\n",
      "506/506 [==============================] - 0s 39us/step - loss: 91.9563 - mean_absolute_error: 7.8515 - val_loss: 87.2103 - val_mean_absolute_error: 7.7641\n",
      "Epoch 14/200\n",
      "506/506 [==============================] - 0s 39us/step - loss: 73.6058 - mean_absolute_error: 6.8760 - val_loss: 73.4707 - val_mean_absolute_error: 6.8746\n",
      "Epoch 15/200\n",
      "506/506 [==============================] - 0s 36us/step - loss: 62.9379 - mean_absolute_error: 6.2092 - val_loss: 64.3971 - val_mean_absolute_error: 6.3246\n",
      "Epoch 16/200\n",
      "506/506 [==============================] - 0s 37us/step - loss: 54.6537 - mean_absolute_error: 5.6899 - val_loss: 56.2630 - val_mean_absolute_error: 5.8497\n",
      "Epoch 17/200\n",
      "506/506 [==============================] - 0s 37us/step - loss: 47.3956 - mean_absolute_error: 5.2136 - val_loss: 50.5087 - val_mean_absolute_error: 5.5906\n",
      "Epoch 18/200\n",
      "506/506 [==============================] - 0s 37us/step - loss: 41.5657 - mean_absolute_error: 4.8106 - val_loss: 43.8689 - val_mean_absolute_error: 5.1055\n",
      "Epoch 19/200\n",
      "506/506 [==============================] - 0s 35us/step - loss: 36.4409 - mean_absolute_error: 4.4595 - val_loss: 41.3273 - val_mean_absolute_error: 5.0957\n",
      "Epoch 20/200\n",
      "506/506 [==============================] - 0s 40us/step - loss: 33.1499 - mean_absolute_error: 4.2238 - val_loss: 35.8503 - val_mean_absolute_error: 4.6470\n",
      "Epoch 21/200\n",
      "506/506 [==============================] - 0s 39us/step - loss: 29.4499 - mean_absolute_error: 3.9447 - val_loss: 33.9157 - val_mean_absolute_error: 4.5717\n",
      "Epoch 22/200\n",
      "506/506 [==============================] - 0s 42us/step - loss: 26.9255 - mean_absolute_error: 3.7541 - val_loss: 29.9493 - val_mean_absolute_error: 4.3090\n",
      "Epoch 23/200\n",
      "506/506 [==============================] - 0s 37us/step - loss: 24.7035 - mean_absolute_error: 3.6191 - val_loss: 27.6733 - val_mean_absolute_error: 4.2051\n",
      "Epoch 24/200\n",
      "506/506 [==============================] - 0s 34us/step - loss: 23.3106 - mean_absolute_error: 3.4903 - val_loss: 26.1615 - val_mean_absolute_error: 3.9824\n",
      "Epoch 25/200\n",
      "506/506 [==============================] - 0s 37us/step - loss: 21.8195 - mean_absolute_error: 3.3528 - val_loss: 24.5791 - val_mean_absolute_error: 3.9966\n",
      "Epoch 26/200\n",
      "506/506 [==============================] - 0s 37us/step - loss: 20.9246 - mean_absolute_error: 3.3577 - val_loss: 23.3911 - val_mean_absolute_error: 3.7953\n",
      "Epoch 27/200\n",
      "506/506 [==============================] - 0s 37us/step - loss: 19.8779 - mean_absolute_error: 3.2322 - val_loss: 22.1283 - val_mean_absolute_error: 3.6712\n",
      "Epoch 28/200\n",
      "506/506 [==============================] - 0s 37us/step - loss: 19.2555 - mean_absolute_error: 3.1555 - val_loss: 21.3867 - val_mean_absolute_error: 3.6141\n",
      "Epoch 29/200\n",
      "506/506 [==============================] - 0s 41us/step - loss: 18.6506 - mean_absolute_error: 3.1111 - val_loss: 23.3717 - val_mean_absolute_error: 3.6747\n",
      "Epoch 30/200\n",
      "506/506 [==============================] - 0s 34us/step - loss: 18.5551 - mean_absolute_error: 3.0449 - val_loss: 20.4066 - val_mean_absolute_error: 3.4135\n",
      "Epoch 31/200\n",
      "506/506 [==============================] - 0s 32us/step - loss: 17.7509 - mean_absolute_error: 2.9749 - val_loss: 20.3373 - val_mean_absolute_error: 3.5084\n",
      "Epoch 32/200\n",
      "506/506 [==============================] - 0s 46us/step - loss: 17.6673 - mean_absolute_error: 3.0138 - val_loss: 19.8548 - val_mean_absolute_error: 3.4032\n",
      "Epoch 33/200\n",
      "506/506 [==============================] - 0s 38us/step - loss: 16.9841 - mean_absolute_error: 2.9580 - val_loss: 19.6111 - val_mean_absolute_error: 3.2772\n",
      "Epoch 34/200\n",
      "506/506 [==============================] - 0s 42us/step - loss: 16.7315 - mean_absolute_error: 2.8899 - val_loss: 19.8152 - val_mean_absolute_error: 3.2884\n",
      "Epoch 35/200\n",
      "506/506 [==============================] - 0s 37us/step - loss: 16.3987 - mean_absolute_error: 2.8455 - val_loss: 18.4103 - val_mean_absolute_error: 3.1794\n",
      "Epoch 36/200\n",
      "506/506 [==============================] - 0s 42us/step - loss: 16.1101 - mean_absolute_error: 2.8060 - val_loss: 18.0189 - val_mean_absolute_error: 3.1659\n",
      "Epoch 37/200\n",
      "506/506 [==============================] - 0s 38us/step - loss: 15.7608 - mean_absolute_error: 2.7911 - val_loss: 17.9774 - val_mean_absolute_error: 3.1232\n",
      "Epoch 38/200\n",
      "506/506 [==============================] - 0s 39us/step - loss: 15.5356 - mean_absolute_error: 2.7307 - val_loss: 18.1922 - val_mean_absolute_error: 3.1234\n",
      "Epoch 39/200\n",
      "506/506 [==============================] - 0s 41us/step - loss: 15.1220 - mean_absolute_error: 2.7172 - val_loss: 17.5471 - val_mean_absolute_error: 3.0722\n",
      "Epoch 40/200\n",
      "506/506 [==============================] - 0s 42us/step - loss: 14.8211 - mean_absolute_error: 2.6872 - val_loss: 17.3961 - val_mean_absolute_error: 3.0944\n",
      "Epoch 41/200\n",
      "506/506 [==============================] - 0s 41us/step - loss: 14.6367 - mean_absolute_error: 2.7091 - val_loss: 16.9140 - val_mean_absolute_error: 3.0405\n",
      "Epoch 42/200\n",
      "506/506 [==============================] - 0s 37us/step - loss: 14.3923 - mean_absolute_error: 2.6867 - val_loss: 16.5343 - val_mean_absolute_error: 2.9768\n",
      "Epoch 43/200\n",
      "506/506 [==============================] - 0s 33us/step - loss: 14.0595 - mean_absolute_error: 2.6343 - val_loss: 16.9372 - val_mean_absolute_error: 2.9723\n",
      "Epoch 44/200\n",
      "506/506 [==============================] - 0s 40us/step - loss: 13.8459 - mean_absolute_error: 2.6050 - val_loss: 17.3783 - val_mean_absolute_error: 2.9795\n",
      "Epoch 45/200\n",
      "506/506 [==============================] - 0s 35us/step - loss: 13.6706 - mean_absolute_error: 2.5562 - val_loss: 16.6688 - val_mean_absolute_error: 2.9351\n",
      "Epoch 46/200\n",
      "506/506 [==============================] - 0s 36us/step - loss: 13.3905 - mean_absolute_error: 2.5761 - val_loss: 16.0640 - val_mean_absolute_error: 2.8568\n",
      "Epoch 47/200\n",
      "506/506 [==============================] - 0s 43us/step - loss: 13.2300 - mean_absolute_error: 2.5388 - val_loss: 17.0372 - val_mean_absolute_error: 2.9962\n",
      "Epoch 48/200\n",
      "506/506 [==============================] - 0s 37us/step - loss: 13.0659 - mean_absolute_error: 2.5793 - val_loss: 16.9629 - val_mean_absolute_error: 2.9307\n"
     ]
    },
    {
     "name": "stdout",
     "output_type": "stream",
     "text": [
      "Epoch 49/200\n",
      "506/506 [==============================] - 0s 36us/step - loss: 12.8880 - mean_absolute_error: 2.5032 - val_loss: 16.6112 - val_mean_absolute_error: 2.8815\n",
      "Epoch 50/200\n",
      "506/506 [==============================] - 0s 42us/step - loss: 12.7501 - mean_absolute_error: 2.4882 - val_loss: 16.0604 - val_mean_absolute_error: 2.8826\n",
      "Epoch 51/200\n",
      "506/506 [==============================] - 0s 36us/step - loss: 12.6296 - mean_absolute_error: 2.4976 - val_loss: 16.6118 - val_mean_absolute_error: 2.8815\n",
      "Epoch 52/200\n",
      "506/506 [==============================] - 0s 34us/step - loss: 12.4946 - mean_absolute_error: 2.4692 - val_loss: 17.3226 - val_mean_absolute_error: 2.9716\n",
      "Epoch 53/200\n",
      "506/506 [==============================] - 0s 35us/step - loss: 12.3262 - mean_absolute_error: 2.4985 - val_loss: 16.2455 - val_mean_absolute_error: 2.8417\n",
      "Epoch 54/200\n",
      "506/506 [==============================] - 0s 35us/step - loss: 12.1894 - mean_absolute_error: 2.4476 - val_loss: 16.1929 - val_mean_absolute_error: 2.8326\n",
      "Epoch 55/200\n",
      "506/506 [==============================] - 0s 34us/step - loss: 12.1915 - mean_absolute_error: 2.4229 - val_loss: 15.3310 - val_mean_absolute_error: 2.8108\n",
      "Epoch 56/200\n",
      "506/506 [==============================] - 0s 33us/step - loss: 11.9375 - mean_absolute_error: 2.4433 - val_loss: 14.5472 - val_mean_absolute_error: 2.7004\n",
      "Epoch 57/200\n",
      "506/506 [==============================] - 0s 35us/step - loss: 11.8407 - mean_absolute_error: 2.4031 - val_loss: 15.3705 - val_mean_absolute_error: 2.8029\n",
      "Epoch 58/200\n",
      "506/506 [==============================] - 0s 36us/step - loss: 11.7701 - mean_absolute_error: 2.4263 - val_loss: 14.4721 - val_mean_absolute_error: 2.7150\n",
      "Epoch 59/200\n",
      "506/506 [==============================] - 0s 38us/step - loss: 11.5797 - mean_absolute_error: 2.4011 - val_loss: 14.9641 - val_mean_absolute_error: 2.7353\n",
      "Epoch 60/200\n",
      "506/506 [==============================] - 0s 31us/step - loss: 11.4643 - mean_absolute_error: 2.3749 - val_loss: 14.0719 - val_mean_absolute_error: 2.6423\n",
      "Epoch 61/200\n",
      "506/506 [==============================] - 0s 38us/step - loss: 11.5057 - mean_absolute_error: 2.3774 - val_loss: 14.0983 - val_mean_absolute_error: 2.6349\n",
      "Epoch 62/200\n",
      "506/506 [==============================] - 0s 35us/step - loss: 11.1171 - mean_absolute_error: 2.3418 - val_loss: 14.5148 - val_mean_absolute_error: 2.6886\n",
      "Epoch 63/200\n",
      "506/506 [==============================] - 0s 39us/step - loss: 11.0700 - mean_absolute_error: 2.3362 - val_loss: 14.4052 - val_mean_absolute_error: 2.7393\n",
      "Epoch 64/200\n",
      "506/506 [==============================] - 0s 39us/step - loss: 11.2371 - mean_absolute_error: 2.3656 - val_loss: 14.2731 - val_mean_absolute_error: 2.6887\n",
      "Epoch 65/200\n",
      "506/506 [==============================] - 0s 36us/step - loss: 10.8949 - mean_absolute_error: 2.3299 - val_loss: 13.9563 - val_mean_absolute_error: 2.6381\n",
      "Epoch 66/200\n",
      "506/506 [==============================] - 0s 36us/step - loss: 10.9930 - mean_absolute_error: 2.3471 - val_loss: 13.2422 - val_mean_absolute_error: 2.5460\n",
      "Epoch 67/200\n",
      "506/506 [==============================] - 0s 37us/step - loss: 10.8474 - mean_absolute_error: 2.2922 - val_loss: 13.4597 - val_mean_absolute_error: 2.5678\n",
      "Epoch 68/200\n",
      "506/506 [==============================] - 0s 36us/step - loss: 10.6723 - mean_absolute_error: 2.2949 - val_loss: 13.0096 - val_mean_absolute_error: 2.5210\n",
      "Epoch 69/200\n",
      "506/506 [==============================] - 0s 34us/step - loss: 10.6545 - mean_absolute_error: 2.2756 - val_loss: 13.6255 - val_mean_absolute_error: 2.5958\n",
      "Epoch 70/200\n",
      "506/506 [==============================] - 0s 38us/step - loss: 10.6050 - mean_absolute_error: 2.2602 - val_loss: 13.2158 - val_mean_absolute_error: 2.5552\n",
      "Epoch 71/200\n",
      "506/506 [==============================] - 0s 35us/step - loss: 10.4463 - mean_absolute_error: 2.2564 - val_loss: 13.4211 - val_mean_absolute_error: 2.5636\n",
      "Epoch 72/200\n",
      "506/506 [==============================] - 0s 34us/step - loss: 10.3894 - mean_absolute_error: 2.2442 - val_loss: 13.2018 - val_mean_absolute_error: 2.5631\n",
      "Epoch 73/200\n",
      "506/506 [==============================] - 0s 34us/step - loss: 10.3482 - mean_absolute_error: 2.2608 - val_loss: 13.5415 - val_mean_absolute_error: 2.5744\n",
      "Epoch 74/200\n",
      "506/506 [==============================] - 0s 35us/step - loss: 10.3883 - mean_absolute_error: 2.2580 - val_loss: 12.7304 - val_mean_absolute_error: 2.4873\n",
      "Epoch 75/200\n",
      "506/506 [==============================] - 0s 34us/step - loss: 10.2511 - mean_absolute_error: 2.2491 - val_loss: 12.9066 - val_mean_absolute_error: 2.5252\n",
      "Epoch 76/200\n",
      "506/506 [==============================] - 0s 34us/step - loss: 10.1743 - mean_absolute_error: 2.2360 - val_loss: 12.7069 - val_mean_absolute_error: 2.4962\n",
      "Epoch 77/200\n",
      "506/506 [==============================] - 0s 35us/step - loss: 10.1059 - mean_absolute_error: 2.2336 - val_loss: 12.5801 - val_mean_absolute_error: 2.4597\n",
      "Epoch 78/200\n",
      "506/506 [==============================] - 0s 33us/step - loss: 10.1186 - mean_absolute_error: 2.2137 - val_loss: 12.9208 - val_mean_absolute_error: 2.4964\n",
      "Epoch 79/200\n",
      "506/506 [==============================] - 0s 41us/step - loss: 10.0927 - mean_absolute_error: 2.2355 - val_loss: 13.2060 - val_mean_absolute_error: 2.5683\n",
      "Epoch 80/200\n",
      "506/506 [==============================] - 0s 34us/step - loss: 9.9925 - mean_absolute_error: 2.2142 - val_loss: 13.5373 - val_mean_absolute_error: 2.5732\n",
      "Epoch 81/200\n",
      "506/506 [==============================] - 0s 38us/step - loss: 10.0013 - mean_absolute_error: 2.2504 - val_loss: 12.8163 - val_mean_absolute_error: 2.4977\n",
      "Epoch 82/200\n",
      "506/506 [==============================] - 0s 36us/step - loss: 9.8039 - mean_absolute_error: 2.1992 - val_loss: 12.2989 - val_mean_absolute_error: 2.4188\n",
      "Epoch 83/200\n",
      "506/506 [==============================] - 0s 38us/step - loss: 9.8680 - mean_absolute_error: 2.1899 - val_loss: 12.3027 - val_mean_absolute_error: 2.4198\n",
      "Epoch 84/200\n",
      "506/506 [==============================] - 0s 35us/step - loss: 9.6563 - mean_absolute_error: 2.1811 - val_loss: 12.2773 - val_mean_absolute_error: 2.4030\n",
      "Epoch 85/200\n",
      "506/506 [==============================] - 0s 38us/step - loss: 9.7888 - mean_absolute_error: 2.1721 - val_loss: 13.1412 - val_mean_absolute_error: 2.5620\n",
      "Epoch 86/200\n",
      "506/506 [==============================] - 0s 35us/step - loss: 9.6943 - mean_absolute_error: 2.1763 - val_loss: 11.7207 - val_mean_absolute_error: 2.3503\n",
      "Epoch 87/200\n",
      "506/506 [==============================] - 0s 34us/step - loss: 9.5595 - mean_absolute_error: 2.1498 - val_loss: 12.0631 - val_mean_absolute_error: 2.3653\n",
      "Epoch 88/200\n",
      "506/506 [==============================] - 0s 35us/step - loss: 9.6267 - mean_absolute_error: 2.1833 - val_loss: 11.8478 - val_mean_absolute_error: 2.3600\n",
      "Epoch 89/200\n",
      "506/506 [==============================] - 0s 36us/step - loss: 9.4633 - mean_absolute_error: 2.1240 - val_loss: 12.1821 - val_mean_absolute_error: 2.3828\n",
      "Epoch 90/200\n",
      "506/506 [==============================] - 0s 37us/step - loss: 9.6337 - mean_absolute_error: 2.1751 - val_loss: 11.9924 - val_mean_absolute_error: 2.3828\n",
      "Epoch 91/200\n",
      "506/506 [==============================] - 0s 39us/step - loss: 9.3291 - mean_absolute_error: 2.1163 - val_loss: 12.1659 - val_mean_absolute_error: 2.4372\n",
      "Epoch 92/200\n",
      "506/506 [==============================] - 0s 34us/step - loss: 9.3431 - mean_absolute_error: 2.1415 - val_loss: 11.8501 - val_mean_absolute_error: 2.3763\n",
      "Epoch 93/200\n",
      "506/506 [==============================] - 0s 34us/step - loss: 9.3552 - mean_absolute_error: 2.1507 - val_loss: 12.0927 - val_mean_absolute_error: 2.4345\n",
      "Epoch 94/200\n",
      "506/506 [==============================] - 0s 35us/step - loss: 9.2587 - mean_absolute_error: 2.1372 - val_loss: 11.5993 - val_mean_absolute_error: 2.3627\n",
      "Epoch 95/200\n",
      "506/506 [==============================] - 0s 33us/step - loss: 9.2920 - mean_absolute_error: 2.1173 - val_loss: 11.7873 - val_mean_absolute_error: 2.4152\n",
      "Epoch 96/200\n",
      "506/506 [==============================] - 0s 36us/step - loss: 9.1849 - mean_absolute_error: 2.1231 - val_loss: 11.6922 - val_mean_absolute_error: 2.3868\n",
      "Epoch 97/200\n"
     ]
    },
    {
     "name": "stdout",
     "output_type": "stream",
     "text": [
      "506/506 [==============================] - 0s 37us/step - loss: 9.1890 - mean_absolute_error: 2.1254 - val_loss: 12.3305 - val_mean_absolute_error: 2.5058\n",
      "Epoch 98/200\n",
      "506/506 [==============================] - 0s 42us/step - loss: 9.2489 - mean_absolute_error: 2.1240 - val_loss: 11.7385 - val_mean_absolute_error: 2.4057\n",
      "Epoch 99/200\n",
      "506/506 [==============================] - 0s 37us/step - loss: 9.1003 - mean_absolute_error: 2.1154 - val_loss: 10.8371 - val_mean_absolute_error: 2.2729\n",
      "Epoch 100/200\n",
      "506/506 [==============================] - 0s 36us/step - loss: 8.9904 - mean_absolute_error: 2.1120 - val_loss: 11.4400 - val_mean_absolute_error: 2.3690\n",
      "Epoch 101/200\n",
      "506/506 [==============================] - 0s 35us/step - loss: 9.0143 - mean_absolute_error: 2.0996 - val_loss: 11.5453 - val_mean_absolute_error: 2.3961\n",
      "Epoch 102/200\n",
      "506/506 [==============================] - 0s 33us/step - loss: 8.9598 - mean_absolute_error: 2.0921 - val_loss: 12.0489 - val_mean_absolute_error: 2.4818\n",
      "Epoch 103/200\n",
      "506/506 [==============================] - 0s 38us/step - loss: 8.9395 - mean_absolute_error: 2.0986 - val_loss: 11.4214 - val_mean_absolute_error: 2.3117\n",
      "Epoch 104/200\n",
      "506/506 [==============================] - 0s 37us/step - loss: 8.8271 - mean_absolute_error: 2.0842 - val_loss: 11.5433 - val_mean_absolute_error: 2.3892\n",
      "Epoch 105/200\n",
      "506/506 [==============================] - 0s 36us/step - loss: 8.8328 - mean_absolute_error: 2.0970 - val_loss: 11.0214 - val_mean_absolute_error: 2.2999\n",
      "Epoch 106/200\n",
      "506/506 [==============================] - 0s 37us/step - loss: 8.8737 - mean_absolute_error: 2.0641 - val_loss: 11.3417 - val_mean_absolute_error: 2.3392\n",
      "Epoch 107/200\n",
      "506/506 [==============================] - 0s 35us/step - loss: 8.8175 - mean_absolute_error: 2.0972 - val_loss: 10.7472 - val_mean_absolute_error: 2.2552\n",
      "Epoch 108/200\n",
      "506/506 [==============================] - 0s 37us/step - loss: 8.7900 - mean_absolute_error: 2.0865 - val_loss: 10.9532 - val_mean_absolute_error: 2.3529\n",
      "Epoch 109/200\n",
      "506/506 [==============================] - 0s 35us/step - loss: 8.7832 - mean_absolute_error: 2.0792 - val_loss: 10.2141 - val_mean_absolute_error: 2.2411\n",
      "Epoch 110/200\n",
      "506/506 [==============================] - 0s 35us/step - loss: 8.6764 - mean_absolute_error: 2.0754 - val_loss: 10.3867 - val_mean_absolute_error: 2.2564\n",
      "Epoch 111/200\n",
      "506/506 [==============================] - 0s 33us/step - loss: 8.6652 - mean_absolute_error: 2.0525 - val_loss: 10.3199 - val_mean_absolute_error: 2.2332\n",
      "Epoch 112/200\n",
      "506/506 [==============================] - 0s 36us/step - loss: 8.6014 - mean_absolute_error: 2.0489 - val_loss: 11.6235 - val_mean_absolute_error: 2.4346\n",
      "Epoch 113/200\n",
      "506/506 [==============================] - 0s 33us/step - loss: 8.5706 - mean_absolute_error: 2.0516 - val_loss: 10.5619 - val_mean_absolute_error: 2.2633\n",
      "Epoch 114/200\n",
      "506/506 [==============================] - 0s 37us/step - loss: 8.4596 - mean_absolute_error: 2.0388 - val_loss: 11.0479 - val_mean_absolute_error: 2.3597\n",
      "Epoch 115/200\n",
      "506/506 [==============================] - 0s 34us/step - loss: 8.5556 - mean_absolute_error: 2.0664 - val_loss: 10.1158 - val_mean_absolute_error: 2.2386\n",
      "Epoch 116/200\n",
      "506/506 [==============================] - 0s 36us/step - loss: 8.5723 - mean_absolute_error: 2.0305 - val_loss: 10.2262 - val_mean_absolute_error: 2.2287\n",
      "Epoch 117/200\n",
      "506/506 [==============================] - 0s 36us/step - loss: 8.3300 - mean_absolute_error: 2.0373 - val_loss: 10.0854 - val_mean_absolute_error: 2.1997\n",
      "Epoch 118/200\n",
      "506/506 [==============================] - 0s 34us/step - loss: 8.4203 - mean_absolute_error: 2.0332 - val_loss: 11.4952 - val_mean_absolute_error: 2.4445\n",
      "Epoch 119/200\n",
      "506/506 [==============================] - 0s 34us/step - loss: 8.5402 - mean_absolute_error: 2.0535 - val_loss: 10.1514 - val_mean_absolute_error: 2.2400\n",
      "Epoch 120/200\n",
      "506/506 [==============================] - 0s 35us/step - loss: 8.3952 - mean_absolute_error: 2.0433 - val_loss: 10.7926 - val_mean_absolute_error: 2.3241\n",
      "Epoch 121/200\n",
      "506/506 [==============================] - 0s 35us/step - loss: 8.4381 - mean_absolute_error: 2.0189 - val_loss: 10.1356 - val_mean_absolute_error: 2.1892\n",
      "Epoch 122/200\n",
      "506/506 [==============================] - 0s 36us/step - loss: 8.3292 - mean_absolute_error: 2.0424 - val_loss: 10.2492 - val_mean_absolute_error: 2.2274\n",
      "Epoch 123/200\n",
      "506/506 [==============================] - 0s 45us/step - loss: 8.3226 - mean_absolute_error: 2.0299 - val_loss: 10.9374 - val_mean_absolute_error: 2.3508\n",
      "Epoch 124/200\n",
      "506/506 [==============================] - 0s 34us/step - loss: 8.2694 - mean_absolute_error: 2.0279 - val_loss: 10.8399 - val_mean_absolute_error: 2.3036\n",
      "Epoch 125/200\n",
      "506/506 [==============================] - 0s 34us/step - loss: 8.3376 - mean_absolute_error: 2.0466 - val_loss: 9.9122 - val_mean_absolute_error: 2.1296\n",
      "Epoch 126/200\n",
      "506/506 [==============================] - 0s 34us/step - loss: 8.2086 - mean_absolute_error: 2.0137 - val_loss: 9.8557 - val_mean_absolute_error: 2.1579\n",
      "Epoch 127/200\n",
      "506/506 [==============================] - 0s 34us/step - loss: 8.1166 - mean_absolute_error: 2.0021 - val_loss: 10.2695 - val_mean_absolute_error: 2.2576\n",
      "Epoch 128/200\n",
      "506/506 [==============================] - 0s 34us/step - loss: 8.1923 - mean_absolute_error: 2.0136 - val_loss: 10.0664 - val_mean_absolute_error: 2.2237\n",
      "Epoch 129/200\n",
      "506/506 [==============================] - 0s 34us/step - loss: 8.0994 - mean_absolute_error: 2.0081 - val_loss: 9.7750 - val_mean_absolute_error: 2.1571\n",
      "Epoch 130/200\n",
      "506/506 [==============================] - 0s 35us/step - loss: 8.1235 - mean_absolute_error: 2.0016 - val_loss: 10.1832 - val_mean_absolute_error: 2.2195\n",
      "Epoch 131/200\n",
      "506/506 [==============================] - 0s 36us/step - loss: 8.0160 - mean_absolute_error: 1.9877 - val_loss: 9.5812 - val_mean_absolute_error: 2.1552\n",
      "Epoch 132/200\n",
      "506/506 [==============================] - 0s 33us/step - loss: 8.1172 - mean_absolute_error: 2.0113 - val_loss: 9.8219 - val_mean_absolute_error: 2.2003\n",
      "Epoch 133/200\n",
      "506/506 [==============================] - 0s 35us/step - loss: 7.9898 - mean_absolute_error: 1.9633 - val_loss: 9.8712 - val_mean_absolute_error: 2.1810\n",
      "Epoch 134/200\n",
      "506/506 [==============================] - 0s 35us/step - loss: 8.0452 - mean_absolute_error: 2.0140 - val_loss: 9.5004 - val_mean_absolute_error: 2.1399\n",
      "Epoch 135/200\n",
      "506/506 [==============================] - 0s 35us/step - loss: 8.0137 - mean_absolute_error: 1.9912 - val_loss: 9.2426 - val_mean_absolute_error: 2.1205\n",
      "Epoch 136/200\n",
      "506/506 [==============================] - 0s 35us/step - loss: 7.8833 - mean_absolute_error: 1.9776 - val_loss: 11.4042 - val_mean_absolute_error: 2.4595\n",
      "Epoch 137/200\n",
      "506/506 [==============================] - 0s 36us/step - loss: 7.9214 - mean_absolute_error: 1.9824 - val_loss: 10.9080 - val_mean_absolute_error: 2.3592\n",
      "Epoch 138/200\n",
      "506/506 [==============================] - 0s 34us/step - loss: 8.0750 - mean_absolute_error: 2.0024 - val_loss: 10.0245 - val_mean_absolute_error: 2.2251\n",
      "Epoch 139/200\n",
      "506/506 [==============================] - 0s 36us/step - loss: 7.7992 - mean_absolute_error: 1.9759 - val_loss: 9.8830 - val_mean_absolute_error: 2.1951\n",
      "Epoch 140/200\n",
      "506/506 [==============================] - 0s 36us/step - loss: 7.8972 - mean_absolute_error: 1.9773 - val_loss: 10.0525 - val_mean_absolute_error: 2.2427\n",
      "Epoch 141/200\n",
      "506/506 [==============================] - 0s 36us/step - loss: 7.8063 - mean_absolute_error: 1.9946 - val_loss: 9.5216 - val_mean_absolute_error: 2.1787\n",
      "Epoch 142/200\n",
      "506/506 [==============================] - 0s 36us/step - loss: 7.7872 - mean_absolute_error: 1.9647 - val_loss: 9.6656 - val_mean_absolute_error: 2.2004\n",
      "Epoch 143/200\n",
      "506/506 [==============================] - 0s 36us/step - loss: 7.7611 - mean_absolute_error: 1.9713 - val_loss: 10.3867 - val_mean_absolute_error: 2.2872\n",
      "Epoch 144/200\n",
      "506/506 [==============================] - 0s 35us/step - loss: 7.7577 - mean_absolute_error: 1.9876 - val_loss: 10.1339 - val_mean_absolute_error: 2.2581\n",
      "Epoch 145/200\n"
     ]
    },
    {
     "name": "stdout",
     "output_type": "stream",
     "text": [
      "506/506 [==============================] - 0s 35us/step - loss: 7.7836 - mean_absolute_error: 1.9845 - val_loss: 9.3640 - val_mean_absolute_error: 2.1661\n",
      "Epoch 146/200\n",
      "506/506 [==============================] - 0s 36us/step - loss: 7.6614 - mean_absolute_error: 1.9562 - val_loss: 11.4666 - val_mean_absolute_error: 2.4907\n",
      "Epoch 147/200\n",
      "506/506 [==============================] - 0s 32us/step - loss: 7.8251 - mean_absolute_error: 1.9726 - val_loss: 9.7655 - val_mean_absolute_error: 2.2120\n",
      "Epoch 148/200\n",
      "506/506 [==============================] - 0s 35us/step - loss: 7.7038 - mean_absolute_error: 1.9544 - val_loss: 10.7339 - val_mean_absolute_error: 2.3200\n",
      "Epoch 149/200\n",
      "506/506 [==============================] - 0s 35us/step - loss: 7.6619 - mean_absolute_error: 1.9699 - val_loss: 8.7238 - val_mean_absolute_error: 2.0738\n",
      "Epoch 150/200\n",
      "506/506 [==============================] - 0s 34us/step - loss: 7.5868 - mean_absolute_error: 1.9444 - val_loss: 8.7697 - val_mean_absolute_error: 2.0730\n",
      "Epoch 151/200\n",
      "506/506 [==============================] - 0s 37us/step - loss: 7.5752 - mean_absolute_error: 1.9449 - val_loss: 8.3995 - val_mean_absolute_error: 2.0284\n",
      "Epoch 152/200\n",
      "506/506 [==============================] - 0s 36us/step - loss: 7.5393 - mean_absolute_error: 1.9305 - val_loss: 8.6285 - val_mean_absolute_error: 2.0851\n",
      "Epoch 153/200\n",
      "506/506 [==============================] - 0s 32us/step - loss: 7.4167 - mean_absolute_error: 1.9340 - val_loss: 9.1669 - val_mean_absolute_error: 2.1762\n",
      "Epoch 154/200\n",
      "506/506 [==============================] - 0s 35us/step - loss: 7.4864 - mean_absolute_error: 1.9315 - val_loss: 8.5824 - val_mean_absolute_error: 2.0779\n",
      "Epoch 155/200\n",
      "506/506 [==============================] - 0s 31us/step - loss: 7.4882 - mean_absolute_error: 1.9239 - val_loss: 9.5264 - val_mean_absolute_error: 2.1838\n",
      "Epoch 156/200\n",
      "506/506 [==============================] - 0s 35us/step - loss: 7.5077 - mean_absolute_error: 1.9796 - val_loss: 8.7701 - val_mean_absolute_error: 2.0578\n",
      "Epoch 157/200\n",
      "506/506 [==============================] - 0s 36us/step - loss: 7.3366 - mean_absolute_error: 1.9273 - val_loss: 8.9119 - val_mean_absolute_error: 2.0649\n",
      "Epoch 158/200\n",
      "506/506 [==============================] - 0s 36us/step - loss: 7.4225 - mean_absolute_error: 1.9189 - val_loss: 9.2298 - val_mean_absolute_error: 2.1466\n",
      "Epoch 159/200\n",
      "506/506 [==============================] - 0s 34us/step - loss: 7.4395 - mean_absolute_error: 1.9373 - val_loss: 9.6666 - val_mean_absolute_error: 2.2340\n",
      "Epoch 160/200\n",
      "506/506 [==============================] - 0s 35us/step - loss: 7.4049 - mean_absolute_error: 1.9039 - val_loss: 8.5775 - val_mean_absolute_error: 2.0786\n",
      "Epoch 161/200\n",
      "506/506 [==============================] - 0s 34us/step - loss: 7.2750 - mean_absolute_error: 1.9123 - val_loss: 10.2763 - val_mean_absolute_error: 2.3550\n",
      "Epoch 162/200\n",
      "506/506 [==============================] - 0s 34us/step - loss: 7.5663 - mean_absolute_error: 1.9313 - val_loss: 9.2719 - val_mean_absolute_error: 2.1986\n",
      "Epoch 163/200\n",
      "506/506 [==============================] - 0s 34us/step - loss: 7.3418 - mean_absolute_error: 1.9039 - val_loss: 8.2414 - val_mean_absolute_error: 2.0293\n",
      "Epoch 164/200\n",
      "506/506 [==============================] - 0s 31us/step - loss: 7.2315 - mean_absolute_error: 1.9094 - val_loss: 8.9635 - val_mean_absolute_error: 2.0995\n",
      "Epoch 165/200\n",
      "506/506 [==============================] - 0s 35us/step - loss: 7.3556 - mean_absolute_error: 1.9277 - val_loss: 9.5207 - val_mean_absolute_error: 2.2124\n",
      "Epoch 166/200\n",
      "506/506 [==============================] - 0s 34us/step - loss: 7.1932 - mean_absolute_error: 1.9171 - val_loss: 8.1369 - val_mean_absolute_error: 2.0355\n",
      "Epoch 167/200\n",
      "506/506 [==============================] - 0s 36us/step - loss: 7.2364 - mean_absolute_error: 1.9022 - val_loss: 8.4912 - val_mean_absolute_error: 2.0658\n",
      "Epoch 168/200\n",
      "506/506 [==============================] - 0s 34us/step - loss: 7.1732 - mean_absolute_error: 1.9176 - val_loss: 8.3711 - val_mean_absolute_error: 2.0563\n",
      "Epoch 169/200\n",
      "506/506 [==============================] - 0s 34us/step - loss: 7.2495 - mean_absolute_error: 1.9153 - val_loss: 8.5246 - val_mean_absolute_error: 2.0869\n",
      "Epoch 170/200\n",
      "506/506 [==============================] - 0s 34us/step - loss: 7.1623 - mean_absolute_error: 1.8953 - val_loss: 10.4811 - val_mean_absolute_error: 2.4015\n",
      "Epoch 171/200\n",
      "506/506 [==============================] - 0s 36us/step - loss: 7.2746 - mean_absolute_error: 1.9374 - val_loss: 8.5187 - val_mean_absolute_error: 2.0892\n",
      "Epoch 172/200\n",
      "506/506 [==============================] - 0s 37us/step - loss: 7.1917 - mean_absolute_error: 1.9156 - val_loss: 9.1725 - val_mean_absolute_error: 2.1887\n",
      "Epoch 173/200\n",
      "506/506 [==============================] - 0s 32us/step - loss: 7.0850 - mean_absolute_error: 1.8994 - val_loss: 8.5202 - val_mean_absolute_error: 2.0835\n",
      "Epoch 174/200\n",
      "506/506 [==============================] - 0s 39us/step - loss: 7.0780 - mean_absolute_error: 1.8964 - val_loss: 8.4880 - val_mean_absolute_error: 2.0884\n",
      "Epoch 175/200\n",
      "506/506 [==============================] - 0s 43us/step - loss: 7.1444 - mean_absolute_error: 1.8960 - val_loss: 8.6812 - val_mean_absolute_error: 2.1016\n",
      "Epoch 176/200\n",
      "506/506 [==============================] - 0s 37us/step - loss: 7.3105 - mean_absolute_error: 1.9299 - val_loss: 8.7568 - val_mean_absolute_error: 2.1466\n",
      "Epoch 177/200\n",
      "506/506 [==============================] - 0s 41us/step - loss: 6.9733 - mean_absolute_error: 1.8718 - val_loss: 8.2408 - val_mean_absolute_error: 2.0641\n",
      "Epoch 178/200\n",
      "506/506 [==============================] - 0s 41us/step - loss: 7.0205 - mean_absolute_error: 1.8755 - val_loss: 7.9168 - val_mean_absolute_error: 2.0189\n",
      "Epoch 179/200\n",
      "506/506 [==============================] - 0s 43us/step - loss: 7.0686 - mean_absolute_error: 1.8910 - val_loss: 8.1513 - val_mean_absolute_error: 2.0617\n",
      "Epoch 180/200\n",
      "506/506 [==============================] - 0s 40us/step - loss: 6.9347 - mean_absolute_error: 1.8476 - val_loss: 8.6082 - val_mean_absolute_error: 2.1232\n",
      "Epoch 181/200\n",
      "506/506 [==============================] - 0s 36us/step - loss: 6.9862 - mean_absolute_error: 1.8906 - val_loss: 7.4916 - val_mean_absolute_error: 1.9643\n",
      "Epoch 182/200\n",
      "506/506 [==============================] - 0s 40us/step - loss: 7.0171 - mean_absolute_error: 1.8843 - val_loss: 8.7282 - val_mean_absolute_error: 2.1252\n",
      "Epoch 183/200\n",
      "506/506 [==============================] - 0s 41us/step - loss: 7.0188 - mean_absolute_error: 1.9070 - val_loss: 7.5542 - val_mean_absolute_error: 1.9894\n",
      "Epoch 184/200\n",
      "506/506 [==============================] - 0s 37us/step - loss: 6.8928 - mean_absolute_error: 1.8689 - val_loss: 7.6010 - val_mean_absolute_error: 1.9922\n",
      "Epoch 185/200\n",
      "506/506 [==============================] - 0s 36us/step - loss: 6.7695 - mean_absolute_error: 1.8523 - val_loss: 8.4767 - val_mean_absolute_error: 2.1299\n",
      "Epoch 186/200\n",
      "506/506 [==============================] - 0s 37us/step - loss: 7.0387 - mean_absolute_error: 1.8922 - val_loss: 7.6041 - val_mean_absolute_error: 2.0089\n",
      "Epoch 187/200\n",
      "506/506 [==============================] - 0s 38us/step - loss: 6.7828 - mean_absolute_error: 1.8615 - val_loss: 7.6040 - val_mean_absolute_error: 2.0121\n",
      "Epoch 188/200\n",
      "506/506 [==============================] - 0s 33us/step - loss: 6.8518 - mean_absolute_error: 1.8656 - val_loss: 7.3285 - val_mean_absolute_error: 1.9768\n",
      "Epoch 189/200\n",
      "506/506 [==============================] - 0s 36us/step - loss: 6.8586 - mean_absolute_error: 1.8783 - val_loss: 7.1549 - val_mean_absolute_error: 1.9429\n",
      "Epoch 190/200\n",
      "506/506 [==============================] - 0s 36us/step - loss: 6.6743 - mean_absolute_error: 1.8408 - val_loss: 7.8940 - val_mean_absolute_error: 2.0588\n",
      "Epoch 191/200\n",
      "506/506 [==============================] - 0s 37us/step - loss: 6.6955 - mean_absolute_error: 1.8459 - val_loss: 7.0928 - val_mean_absolute_error: 1.9548\n",
      "Epoch 192/200\n",
      "506/506 [==============================] - 0s 36us/step - loss: 6.7674 - mean_absolute_error: 1.8585 - val_loss: 7.2014 - val_mean_absolute_error: 1.9496\n",
      "Epoch 193/200\n",
      "506/506 [==============================] - 0s 35us/step - loss: 6.7899 - mean_absolute_error: 1.8632 - val_loss: 7.6222 - val_mean_absolute_error: 2.0426\n"
     ]
    },
    {
     "name": "stdout",
     "output_type": "stream",
     "text": [
      "Epoch 194/200\n",
      "506/506 [==============================] - 0s 34us/step - loss: 6.9010 - mean_absolute_error: 1.8890 - val_loss: 7.0992 - val_mean_absolute_error: 1.9341\n",
      "Epoch 195/200\n",
      "506/506 [==============================] - 0s 42us/step - loss: 6.7091 - mean_absolute_error: 1.8430 - val_loss: 7.9990 - val_mean_absolute_error: 2.0922\n",
      "Epoch 196/200\n",
      "506/506 [==============================] - 0s 35us/step - loss: 6.7164 - mean_absolute_error: 1.8528 - val_loss: 7.2114 - val_mean_absolute_error: 1.9454\n",
      "Epoch 197/200\n",
      "506/506 [==============================] - 0s 40us/step - loss: 6.6882 - mean_absolute_error: 1.8467 - val_loss: 7.2889 - val_mean_absolute_error: 1.9805\n",
      "Epoch 198/200\n",
      "506/506 [==============================] - 0s 35us/step - loss: 6.5809 - mean_absolute_error: 1.8467 - val_loss: 7.6661 - val_mean_absolute_error: 2.0410\n",
      "Epoch 199/200\n",
      "506/506 [==============================] - 0s 36us/step - loss: 6.6658 - mean_absolute_error: 1.8476 - val_loss: 7.1569 - val_mean_absolute_error: 1.9769\n",
      "Epoch 200/200\n",
      "506/506 [==============================] - 0s 36us/step - loss: 6.5852 - mean_absolute_error: 1.8193 - val_loss: 7.0601 - val_mean_absolute_error: 1.9570\n"
     ]
    }
   ],
   "source": [
    "network_metadata = model.fit(x_train, y_train,\n",
    "                             validation_data=(x_test, y_test),\n",
    "                             epochs=200, \n",
    "                             batch_size=50)"
   ]
  },
  {
   "cell_type": "code",
   "execution_count": 77,
   "metadata": {},
   "outputs": [
    {
     "data": {
      "image/png": "[encoded data removed]",
      "text/plain": [
       "<Figure size 432x288 with 1 Axes>"
      ]
     },
     "metadata": {
      "needs_background": "light"
     },
     "output_type": "display_data"
    }
   ],
   "source": [
    "def plot_history(history):\n",
    "    plt.figure()\n",
    "    plt.xlabel('Epoch')\n",
    "    plt.ylabel('Mean Abs Error [1000$]')\n",
    "    plt.plot(history.epoch, np.array(history.history['mean_absolute_error']), label= 'Train Loss')\n",
    "    plt.plot(history.epoch, np.array(history.history['val_mean_absolute_error']), label= 'Val Loss')\n",
    "    plt.legend()\n",
    "    plt.ylim([0, 15])\n",
    "    \n",
    "plot_history(network_metadata)"
   ]
  },
  {
   "cell_type": "code",
   "execution_count": 78,
   "metadata": {},
   "outputs": [
    {
     "data": {
      "image/png": "[encoded data removed]",
      "text/plain": [
       "<Figure size 432x288 with 1 Axes>"
      ]
     },
     "metadata": {
      "needs_background": "light"
     },
     "output_type": "display_data"
    }
   ],
   "source": [
    "# plot predictions\n",
    "test_predictions = model.predict(x_test).flatten()\n",
    "\n",
    "plt.scatter(y_test, test_predictions)\n",
    "plt.xlabel('True Values [1000$]')\n",
    "plt.ylabel('Predictions [1000$]')\n",
    "plt.axis('equal')\n",
    "plt.xlim(plt.xlim())\n",
    "plt.ylim(plt.ylim())\n",
    "_ = plt.plot([-100, 100], [-100, 100])"
   ]
  },
  {
   "cell_type": "code",
   "execution_count": 82,
   "metadata": {},
   "outputs": [
    {
     "data": {
      "image/png": "[encoded data removed]",
      "text/plain": [
       "<Figure size 432x288 with 1 Axes>"
      ]
     },
     "metadata": {
      "needs_background": "light"
     },
     "output_type": "display_data"
    }
   ],
   "source": [
    "# number of errors\n",
    "\n",
    "error = test_predictions - y_test\n",
    "plt.hist(error, bins = 50)\n",
    "plt.xlabel('Prediction Error [1000$]')\n",
    "_ = plt.ylabel('Count')"
   ]
  },
  {
   "cell_type": "markdown",
   "metadata": {},
   "source": [
    "## K-Fold Validation approach\n",
    "Train and test set will be concatenated"
   ]
  },
  {
   "cell_type": "code",
   "execution_count": 83,
   "metadata": {},
   "outputs": [
    {
     "data": {
      "text/plain": [
       "((404, 13), (102, 13))"
      ]
     },
     "execution_count": 83,
     "metadata": {},
     "output_type": "execute_result"
    }
   ],
   "source": [
    "(x_train,y_train),(x_test,y_test) = boston_housing.load_data()\n",
    "x_train.shape, x_test.shape"
   ]
  },
  {
   "cell_type": "code",
   "execution_count": 84,
   "metadata": {},
   "outputs": [
    {
     "data": {
      "text/plain": [
       "((506, 13), (506,))"
      ]
     },
     "execution_count": 84,
     "metadata": {},
     "output_type": "execute_result"
    }
   ],
   "source": [
    "x_train = np.concatenate((x_train,x_test), axis=0)\n",
    "y_train = np.concatenate((y_train,y_test), axis=0)\n",
    "x_train.shape, y_train.shape"
   ]
  },
  {
   "cell_type": "code",
   "execution_count": 85,
   "metadata": {},
   "outputs": [
    {
     "name": "stdout",
     "output_type": "stream",
     "text": [
      "_________________________________________________________________\n",
      "Layer (type)                 Output Shape              Param #   \n",
      "=================================================================\n",
      "dense_59 (Dense)             (None, 13)                182       \n",
      "_________________________________________________________________\n",
      "dense_60 (Dense)             (None, 1)                 14        \n",
      "=================================================================\n",
      "Total params: 196\n",
      "Trainable params: 196\n",
      "Non-trainable params: 0\n",
      "_________________________________________________________________\n"
     ]
    }
   ],
   "source": [
    "#Small model to establish baseline\n",
    "# kernel_initializer sets the weights\n",
    "\n",
    "def baseline_model():\n",
    "    model = Sequential()\n",
    "    model.add(Dense(13, input_dim=13, kernel_initializer='normal', activation='relu'))\n",
    "    model.add(Dense(1, kernel_initializer='normal'))\n",
    "    model.compile(optimizer= optimizers.RMSprop(lr=0.001),loss='mse',metrics=['mae'])\n",
    "    return model\n",
    "baseline = baseline_model()\n",
    "baseline.summary()"
   ]
  },
  {
   "cell_type": "code",
   "execution_count": 86,
   "metadata": {},
   "outputs": [
    {
     "name": "stdout",
     "output_type": "stream",
     "text": [
      "_________________________________________________________________\n",
      "Layer (type)                 Output Shape              Param #   \n",
      "=================================================================\n",
      "dense_61 (Dense)             (None, 13)                182       \n",
      "_________________________________________________________________\n",
      "dense_62 (Dense)             (None, 6)                 84        \n",
      "_________________________________________________________________\n",
      "dense_63 (Dense)             (None, 1)                 7         \n",
      "=================================================================\n",
      "Total params: 273\n",
      "Trainable params: 273\n",
      "Non-trainable params: 0\n",
      "_________________________________________________________________\n"
     ]
    }
   ],
   "source": [
    "# Larger models below let tune the model and determine where overfitting occurs,\n",
    "# Then the model hyperparameters can be adjusted (number of layers/neurons per layer accordingly)\n",
    "\n",
    "def larger_model():\n",
    "    model = Sequential()\n",
    "    model.add(Dense(13, input_dim=13, kernel_initializer='normal', activation='relu'))\n",
    "    model.add(Dense(6, kernel_initializer='normal', activation='relu'))\n",
    "    model.add(Dense(1, kernel_initializer='normal'))\n",
    "    model.compile(loss='mean_squared_error', optimizer='RMSprop', metrics=['mae'])\n",
    "    return model\n",
    "\n",
    "larger = larger_model()\n",
    "larger.summary()"
   ]
  },
  {
   "cell_type": "code",
   "execution_count": 87,
   "metadata": {},
   "outputs": [
    {
     "name": "stdout",
     "output_type": "stream",
     "text": [
      "_________________________________________________________________\n",
      "Layer (type)                 Output Shape              Param #   \n",
      "=================================================================\n",
      "dense_64 (Dense)             (None, 20)                280       \n",
      "_________________________________________________________________\n",
      "dense_65 (Dense)             (None, 1)                 21        \n",
      "=================================================================\n",
      "Total params: 301\n",
      "Trainable params: 301\n",
      "Non-trainable params: 0\n",
      "_________________________________________________________________\n"
     ]
    }
   ],
   "source": [
    "def wider_model():\n",
    "    model = Sequential()\n",
    "    model.add(Dense(20, input_dim=13, kernel_initializer='normal', activation='relu'))\n",
    "    model.add(Dense(1, kernel_initializer='normal'))\n",
    "    model.compile(loss='mean_squared_error', optimizer='RMSprop', metrics=['mae'])\n",
    "    return model\n",
    "\n",
    "wider = wider_model()\n",
    "wider.summary()"
   ]
  },
  {
   "cell_type": "code",
   "execution_count": 88,
   "metadata": {},
   "outputs": [
    {
     "name": "stdout",
     "output_type": "stream",
     "text": [
      "_________________________________________________________________\n",
      "Layer (type)                 Output Shape              Param #   \n",
      "=================================================================\n",
      "dense_66 (Dense)             (None, 25)                350       \n",
      "_________________________________________________________________\n",
      "dense_67 (Dense)             (None, 18)                468       \n",
      "_________________________________________________________________\n",
      "dense_68 (Dense)             (None, 7)                 133       \n",
      "_________________________________________________________________\n",
      "dense_69 (Dense)             (None, 1)                 8         \n",
      "=================================================================\n",
      "Total params: 959\n",
      "Trainable params: 959\n",
      "Non-trainable params: 0\n",
      "_________________________________________________________________\n"
     ]
    }
   ],
   "source": [
    "def wider_deeper_model():\n",
    "    model = Sequential()\n",
    "    model.add(Dense(25, input_dim=13, kernel_initializer='normal', activation='relu'))\n",
    "    model.add(Dense(18, kernel_initializer='normal', activation='relu'))\n",
    "    model.add(Dense(7, kernel_initializer='normal', activation='relu'))\n",
    "    model.add(Dense(1, kernel_initializer='normal'))\n",
    "    model.compile(loss='mean_squared_error', optimizer='RMSprop', metrics=['mae'])\n",
    "    return model\n",
    "\n",
    "wdmodel = wider_deeper_model()\n",
    "wdmodel.summary()"
   ]
  },
  {
   "cell_type": "code",
   "execution_count": 89,
   "metadata": {},
   "outputs": [
    {
     "data": {
      "text/plain": [
       "function"
      ]
     },
     "execution_count": 89,
     "metadata": {},
     "output_type": "execute_result"
    }
   ],
   "source": [
    "#define a list variable holding each model function\n",
    "\n",
    "all_models = [baseline_model, larger_model, wider_model, wider_deeper_model ]\n",
    "\n",
    "\n",
    "type(all_models[1])"
   ]
  },
  {
   "cell_type": "code",
   "execution_count": 90,
   "metadata": {},
   "outputs": [],
   "source": [
    "#set seed for reproducability \n",
    "seed = 7\n",
    "\n",
    "def build_pipeline(model):\n",
    "    # Add a data Scaler and the keras regressor containing our model function to a list of estimators\n",
    "\n",
    "    estimators = []\n",
    "    estimators.append(('standardize', StandardScaler()))\n",
    "    # mlp + Multilayer Perceptron\n",
    "    estimators.append(('mlp', KerasRegressor(build_fn=model, epochs=100, batch_size=5, verbose=0)))\n",
    "\n",
    "    #add our estimator list to a Sklearn pipeline\n",
    "    # the Pipeline will first standardize the data, then use the mlp\n",
    "    pipeline = Pipeline(estimators)\n",
    "    \n",
    "    return pipeline\n",
    " \n",
    "#initialize instance of k-fold validation from sklearn api\n",
    "\n",
    "kfold = KFold(n_splits=5, random_state=seed)"
   ]
  },
  {
   "cell_type": "code",
   "execution_count": 91,
   "metadata": {},
   "outputs": [
    {
     "name": "stdout",
     "output_type": "stream",
     "text": [
      "Model Type: <function baseline_model at 0x7f4e081186a8>\n",
      "MSE per fold:\n",
      "[-14.13488976 -12.54551139 -18.06756492 -21.03982773 -16.93706886]\n",
      "Average MSE of all 5 runs: 16.54, with standard dev: (2.98)\n",
      "Model Type: <function larger_model at 0x7f4dd0fb0bf8>\n",
      "MSE per fold:\n",
      "[ -9.54520009 -10.57465797 -15.79457061 -15.04164785 -20.41423312]\n",
      "Average MSE of all 5 runs: 14.27, with standard dev: (3.92)\n",
      "Model Type: <function wider_model at 0x7f4dd0fb0400>\n",
      "MSE per fold:\n",
      "[-12.12505456 -11.19075274 -16.498146   -18.73591729 -17.52832226]\n",
      "Average MSE of all 5 runs: 15.22, with standard dev: (3.00)\n",
      "Model Type: <function wider_deeper_model at 0x7f4dd0fb0510>\n",
      "MSE per fold:\n",
      "[ -8.10241032  -9.92895944 -13.26655445 -12.06171144 -18.36031142]\n",
      "Average MSE of all 5 runs: 12.34, with standard dev: (3.49)\n"
     ]
    }
   ],
   "source": [
    "#for each model\n",
    "\n",
    "for i in all_models:\n",
    "    \n",
    "    #initialize fixed random weights\n",
    "    np.random.seed(seed)\n",
    "    \n",
    "    #pass pipeline instance, training data and labels, and k-fold crossvalidator instance to evaluate score\n",
    "\n",
    "    results = cross_val_score(build_pipeline(i), x_train, y_train, cv=kfold)\n",
    "\n",
    "    #Print name of model being evaluated    \n",
    "    print('Model Type:', i)\n",
    "    \n",
    "    #The results variable contains the mean squared errors for each of our 5 cross validation runs.\n",
    "    print('MSE per fold:')\n",
    "    print(results)\n",
    "    \n",
    "    #Print mean and sd of all five folds, per model\n",
    "    print(\"Average MSE of all 5 runs: %.2f, with standard dev: (%.2f)\" % (-1*(results.mean()), results.std()))"
   ]
  }
 ],
 "metadata": {
  "kernelspec": {
   "display_name": "Python 3",
   "language": "python",
   "name": "python3"
  },
  "language_info": {
   "codemirror_mode": {
    "name": "ipython",
    "version": 3
   },
   "file_extension": ".py",
   "mimetype": "text/x-python",
   "name": "python",
   "nbconvert_exporter": "python",
   "pygments_lexer": "ipython3",
   "version": "3.6.7"
  }
 },
 "nbformat": 4,
 "nbformat_minor": 2
}
