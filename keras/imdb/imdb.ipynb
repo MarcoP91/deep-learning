{
 "cells": [
  {
   "cell_type": "code",
   "execution_count": 2,
   "metadata": {},
   "outputs": [
    {
     "name": "stderr",
     "output_type": "stream",
     "text": [
      "Using TensorFlow backend.\n"
     ]
    }
   ],
   "source": [
    "import numpy as np\n",
    "import matplotlib.pyplot as plt\n",
    "%matplotlib inline\n",
    "\n",
    "import keras\n",
    "from keras.datasets import imdb\n",
    "from keras import optimizers\n",
    "from keras.models import Sequential\n",
    "from keras.layers import Dense   \n",
    "from keras.callbacks import EarlyStopping"
   ]
  },
  {
   "cell_type": "code",
   "execution_count": 3,
   "metadata": {},
   "outputs": [],
   "source": [
    "import keras\n",
    "from keras.datasets import imdb\n",
    "(x_train,y_train), (x_test,y_test)=imdb.load_data(num_words=12000)"
   ]
  },
  {
   "cell_type": "code",
   "execution_count": 4,
   "metadata": {},
   "outputs": [
    {
     "data": {
      "text/plain": [
       "((25000,), (25000,), numpy.ndarray)"
      ]
     },
     "execution_count": 4,
     "metadata": {},
     "output_type": "execute_result"
    }
   ],
   "source": [
    "#Check shape\n",
    "\n",
    "x_train.shape, x_test.shape, type(x_train)"
   ]
  },
  {
   "cell_type": "code",
   "execution_count": 5,
   "metadata": {
    "collapsed": true
   },
   "outputs": [
    {
     "data": {
      "text/plain": [
       "[1,\n",
       " 194,\n",
       " 1153,\n",
       " 194,\n",
       " 8255,\n",
       " 78,\n",
       " 228,\n",
       " 5,\n",
       " 6,\n",
       " 1463,\n",
       " 4369,\n",
       " 5012,\n",
       " 134,\n",
       " 26,\n",
       " 4,\n",
       " 715,\n",
       " 8,\n",
       " 118,\n",
       " 1634,\n",
       " 14,\n",
       " 394,\n",
       " 20,\n",
       " 13,\n",
       " 119,\n",
       " 954,\n",
       " 189,\n",
       " 102,\n",
       " 5,\n",
       " 207,\n",
       " 110,\n",
       " 3103,\n",
       " 21,\n",
       " 14,\n",
       " 69,\n",
       " 188,\n",
       " 8,\n",
       " 30,\n",
       " 23,\n",
       " 7,\n",
       " 4,\n",
       " 249,\n",
       " 126,\n",
       " 93,\n",
       " 4,\n",
       " 114,\n",
       " 9,\n",
       " 2300,\n",
       " 1523,\n",
       " 5,\n",
       " 647,\n",
       " 4,\n",
       " 116,\n",
       " 9,\n",
       " 35,\n",
       " 8163,\n",
       " 4,\n",
       " 229,\n",
       " 9,\n",
       " 340,\n",
       " 1322,\n",
       " 4,\n",
       " 118,\n",
       " 9,\n",
       " 4,\n",
       " 130,\n",
       " 4901,\n",
       " 19,\n",
       " 4,\n",
       " 1002,\n",
       " 5,\n",
       " 89,\n",
       " 29,\n",
       " 952,\n",
       " 46,\n",
       " 37,\n",
       " 4,\n",
       " 455,\n",
       " 9,\n",
       " 45,\n",
       " 43,\n",
       " 38,\n",
       " 1543,\n",
       " 1905,\n",
       " 398,\n",
       " 4,\n",
       " 1649,\n",
       " 26,\n",
       " 6853,\n",
       " 5,\n",
       " 163,\n",
       " 11,\n",
       " 3215,\n",
       " 10156,\n",
       " 4,\n",
       " 1153,\n",
       " 9,\n",
       " 194,\n",
       " 775,\n",
       " 7,\n",
       " 8255,\n",
       " 11596,\n",
       " 349,\n",
       " 2637,\n",
       " 148,\n",
       " 605,\n",
       " 2,\n",
       " 8003,\n",
       " 15,\n",
       " 123,\n",
       " 125,\n",
       " 68,\n",
       " 2,\n",
       " 6853,\n",
       " 15,\n",
       " 349,\n",
       " 165,\n",
       " 4362,\n",
       " 98,\n",
       " 5,\n",
       " 4,\n",
       " 228,\n",
       " 9,\n",
       " 43,\n",
       " 2,\n",
       " 1157,\n",
       " 15,\n",
       " 299,\n",
       " 120,\n",
       " 5,\n",
       " 120,\n",
       " 174,\n",
       " 11,\n",
       " 220,\n",
       " 175,\n",
       " 136,\n",
       " 50,\n",
       " 9,\n",
       " 4373,\n",
       " 228,\n",
       " 8255,\n",
       " 5,\n",
       " 2,\n",
       " 656,\n",
       " 245,\n",
       " 2350,\n",
       " 5,\n",
       " 4,\n",
       " 9837,\n",
       " 131,\n",
       " 152,\n",
       " 491,\n",
       " 18,\n",
       " 2,\n",
       " 32,\n",
       " 7464,\n",
       " 1212,\n",
       " 14,\n",
       " 9,\n",
       " 6,\n",
       " 371,\n",
       " 78,\n",
       " 22,\n",
       " 625,\n",
       " 64,\n",
       " 1382,\n",
       " 9,\n",
       " 8,\n",
       " 168,\n",
       " 145,\n",
       " 23,\n",
       " 4,\n",
       " 1690,\n",
       " 15,\n",
       " 16,\n",
       " 4,\n",
       " 1355,\n",
       " 5,\n",
       " 28,\n",
       " 6,\n",
       " 52,\n",
       " 154,\n",
       " 462,\n",
       " 33,\n",
       " 89,\n",
       " 78,\n",
       " 285,\n",
       " 16,\n",
       " 145,\n",
       " 95]"
      ]
     },
     "execution_count": 5,
     "metadata": {},
     "output_type": "execute_result"
    }
   ],
   "source": [
    "# each review simply contains a list of integers, where each integer corresponds to a word in a dictionary\n",
    "x_train[1]"
   ]
  },
  {
   "cell_type": "code",
   "execution_count": 6,
   "metadata": {},
   "outputs": [],
   "source": [
    "# save coppy of data\n",
    "\n",
    "xtrain = x_train\n",
    "xtest = x_test"
   ]
  },
  {
   "cell_type": "code",
   "execution_count": 7,
   "metadata": {},
   "outputs": [],
   "source": [
    "# Get word indices accessable through the imdb object\n",
    "\n",
    "word_index = imdb.get_word_index()\n",
    "\n",
    "# Make a dictionary using the word index for decoding reviews\n",
    "\n",
    "reverse_word_index = dict([(value, key) for (key, value) in word_index.items()])"
   ]
  },
  {
   "cell_type": "code",
   "execution_count": 8,
   "metadata": {},
   "outputs": [],
   "source": [
    "# Make a function which uses the dictionary for decoding reviews\n",
    "# Agruments accept review index and data split (train/test)\n",
    "\n",
    "\n",
    "def decode_review(n, split='train'):  \n",
    "    \n",
    "    # Adjust decoding by 3 positions, as positions 0, 1, and 2 are reserved\n",
    "    \n",
    "    if split=='train':\n",
    "        decoded_review = ' '.join([reverse_word_index.get(i - 3, '?') for i in xtrain[n]])\n",
    "        \n",
    "    elif split == 'test':\n",
    "        decoded_review = ' '.join([reverse_word_index.get(i - 3, '?') for i in xtest[n]])\n",
    "        \n",
    "    # Return decoded string\n",
    "    \n",
    "    return decoded_review"
   ]
  },
  {
   "cell_type": "code",
   "execution_count": 9,
   "metadata": {},
   "outputs": [
    {
     "name": "stdout",
     "output_type": "stream",
     "text": [
      "Traning label: 1\n"
     ]
    },
    {
     "data": {
      "text/plain": [
       "(\"? lavish production values and solid performances in this straightforward adaption of jane austen's satirical classic about the marriage game within and between the classes in ? 18th century england northam and paltrow are a ? mixture as friends who must pass through ? and lies to discover that they love each other good humor is a ? virtue which goes a long way towards explaining the ? of the aged source material which has been toned down a bit in its harsh ? i liked the look of the film and how shots were set up and i thought it didn't rely too much on ? of head shots like most other films of the 80s and 90s do very good results\",)"
      ]
     },
     "execution_count": 9,
     "metadata": {},
     "output_type": "execute_result"
    }
   ],
   "source": [
    "print('Traning label:',y_train[6])\n",
    "decode_review(6, split='train'), "
   ]
  },
  {
   "cell_type": "code",
   "execution_count": 10,
   "metadata": {},
   "outputs": [],
   "source": [
    "def vectorize_features(features):\n",
    "    #Define the number of total words in our corpus\n",
    "    #make an empty 2D tensor of shape (25000, 12000) (samples, unique words in one-hot)\n",
    "    dimension=12000\n",
    "    review_vectors=np.zeros((len(features), dimension))\n",
    "    #interate over each review\n",
    "    #set the indices of our empty tensor to 1s\n",
    "    for location, feature in enumerate(features):\n",
    "        review_vectors[location, feature]=1\n",
    "    return review_vectors\n",
    "x_train = vectorize_features(x_train)\n",
    "x_test = vectorize_features(x_test)"
   ]
  },
  {
   "cell_type": "code",
   "execution_count": 11,
   "metadata": {},
   "outputs": [],
   "source": [
    "# computers process better vectorize data\n",
    "y_train= np.asarray(y_train).astype('float32')\n",
    "y_test = np.asarray(y_test).astype('float32')"
   ]
  },
  {
   "cell_type": "code",
   "execution_count": 12,
   "metadata": {},
   "outputs": [],
   "source": [
    "model=Sequential()\n",
    "model.add(Dense(6, activation='relu', input_shape=(12000,)))\n",
    "model.add(Dense(6, activation='relu'))\n",
    "model.add(Dense(1, activation='sigmoid'))"
   ]
  },
  {
   "cell_type": "code",
   "execution_count": 13,
   "metadata": {},
   "outputs": [],
   "source": [
    "# loss = root mean square error\n",
    "model.compile(optimizer=optimizers.RMSprop(lr=0.001),\n",
    "            loss='binary_crossentropy',\n",
    "            metrics=['accuracy'])"
   ]
  },
  {
   "cell_type": "code",
   "execution_count": 14,
   "metadata": {},
   "outputs": [
    {
     "name": "stdout",
     "output_type": "stream",
     "text": [
      "_________________________________________________________________\n",
      "Layer (type)                 Output Shape              Param #   \n",
      "=================================================================\n",
      "dense_1 (Dense)              (None, 6)                 72006     \n",
      "_________________________________________________________________\n",
      "dense_2 (Dense)              (None, 6)                 42        \n",
      "_________________________________________________________________\n",
      "dense_3 (Dense)              (None, 1)                 7         \n",
      "=================================================================\n",
      "Total params: 72,055\n",
      "Trainable params: 72,055\n",
      "Non-trainable params: 0\n",
      "_________________________________________________________________\n"
     ]
    }
   ],
   "source": [
    "model.summary()"
   ]
  },
  {
   "cell_type": "code",
   "execution_count": 15,
   "metadata": {},
   "outputs": [],
   "source": [
    "# Define early stopping callback to monitor validation loss\n",
    "# the training stops once the val_loss starts to increase \n",
    "early_stopping = keras.callbacks.EarlyStopping(monitor='val_loss')"
   ]
  },
  {
   "cell_type": "code",
   "execution_count": 16,
   "metadata": {},
   "outputs": [
    {
     "name": "stdout",
     "output_type": "stream",
     "text": [
      "Train on 25000 samples, validate on 25000 samples\n",
      "Epoch 1/20\n",
      "25000/25000 [==============================] - 7s 261us/step - loss: 0.4645 - acc: 0.8230 - val_loss: 0.3447 - val_acc: 0.8879\n",
      "Epoch 2/20\n",
      "25000/25000 [==============================] - 5s 202us/step - loss: 0.2424 - acc: 0.9203 - val_loss: 0.2884 - val_acc: 0.8872\n",
      "Epoch 3/20\n",
      "25000/25000 [==============================] - 5s 207us/step - loss: 0.1787 - acc: 0.9382 - val_loss: 0.2914 - val_acc: 0.8853\n"
     ]
    }
   ],
   "source": [
    "# the model.fit function returns a History object, to be used in keras callbacks\n",
    "network_metadata=model.fit(x_train, y_train,\n",
    " validation_data=(x_test, y_test),\n",
    " epochs=20,\n",
    " batch_size=100, callbacks=[early_stopping])"
   ]
  },
  {
   "cell_type": "markdown",
   "metadata": {},
   "source": [
    "### The Early Stopping Callback\n",
    "This callback allows us\n",
    "to monitor a specific training metric. Our choices are between our accuracy or loss on the \n",
    "training set or on the validation set, which are all stored in a dictionary pertaining to our\n",
    "model's history"
   ]
  },
  {
   "cell_type": "code",
   "execution_count": 17,
   "metadata": {},
   "outputs": [
    {
     "data": {
      "text/plain": [
       "dict_keys(['val_loss', 'val_acc', 'loss', 'acc'])"
      ]
     },
     "execution_count": 17,
     "metadata": {},
     "output_type": "execute_result"
    }
   ],
   "source": [
    "history_dict = network_metadata.history\n",
    "history_dict.keys()"
   ]
  },
  {
   "cell_type": "code",
   "execution_count": 18,
   "metadata": {},
   "outputs": [
    {
     "data": {
      "text/plain": [
       "[0.4645482162237167, 0.2423559060692787, 0.17865809699892998]"
      ]
     },
     "execution_count": 18,
     "metadata": {},
     "output_type": "execute_result"
    }
   ],
   "source": [
    "# Shows training loss for each epoch trained\n",
    "history_dict['loss']"
   ]
  },
  {
   "cell_type": "code",
   "execution_count": 19,
   "metadata": {},
   "outputs": [
    {
     "data": {
      "image/png": "[encoded data removed]",
      "text/plain": [
       "<Figure size 432x288 with 1 Axes>"
      ]
     },
     "metadata": {
      "needs_background": "light"
     },
     "output_type": "display_data"
    }
   ],
   "source": [
    "#Plot training and validation loss to spot overfitting\n",
    "\n",
    "acc = history_dict['acc']                                        \n",
    "loss_values = history_dict['loss']                               \n",
    "val_loss_values = history_dict['val_loss']                       \n",
    "epochs = range(1, len(acc) + 1)                                  \n",
    "\n",
    "\n",
    "plt.plot(epochs, loss_values, 'r', label='Training loss')        \n",
    "plt.plot(epochs, val_loss_values, 'b', label='Validation loss')  \n",
    "plt.title('Training and validation loss')                       \n",
    "plt.xlabel('Epochs')                                             \n",
    "plt.ylabel('Loss')                                               \n",
    "plt.legend()                                                     \n",
    "plt.show()  "
   ]
  },
  {
   "cell_type": "code",
   "execution_count": 20,
   "metadata": {},
   "outputs": [
    {
     "data": {
      "image/png": "[encoded data removed]",
      "text/plain": [
       "<Figure size 432x288 with 1 Axes>"
      ]
     },
     "metadata": {
      "needs_background": "light"
     },
     "output_type": "display_data"
    }
   ],
   "source": [
    "#Now plot training accuracy\n",
    "\n",
    "plt.clf()                                                                   \n",
    "\n",
    "acc_values = history_dict['acc']                                            \n",
    "val_acc_values = history_dict['val_acc']                                    \n",
    "\n",
    "\n",
    "plt.plot(epochs, history_dict.get('acc'), 'r', label='Training acc')        \n",
    "plt.plot(epochs, history_dict.get('val_acc'), 'b', label='Validation acc')  \n",
    "\n",
    "\n",
    "plt.title('Training and validation accuracy')                               \n",
    "plt.xlabel('Epochs')                                                        \n",
    "plt.ylabel('Loss')                                                          \n",
    "plt.legend()                                                                \n",
    "plt.show()  "
   ]
  },
  {
   "cell_type": "code",
   "execution_count": 21,
   "metadata": {},
   "outputs": [
    {
     "data": {
      "text/plain": [
       "array([0.84969336], dtype=float32)"
      ]
     },
     "execution_count": 21,
     "metadata": {},
     "output_type": "execute_result"
    }
   ],
   "source": [
    "# Make prediction on the test set \n",
    "\n",
    "predictions = model.predict([x_test])\n",
    "\n",
    "# Check a prediction of the model\n",
    "predictions[5]"
   ]
  },
  {
   "cell_type": "code",
   "execution_count": 22,
   "metadata": {},
   "outputs": [
    {
     "data": {
      "text/plain": [
       "(1.0,\n",
       " \"? i'm absolutely disgusted this movie isn't being sold all who love this movie should email disney and increase the demand for it they'd eventually have to sell it then i'd buy copies for everybody i know everything and everybody in this movie did a good job and i haven't figured out why disney hasn't put this movie on dvd or on vhs in rental stores at least i haven't seen any copies this is a wicked good movie and should be seen by all the kids in the new generation don't get to see it and i think they should it should at least be put back on the channel this movie doesn't deserve a cheap download it deserves the real thing i'm them now this movie will be on dvd\")"
      ]
     },
     "execution_count": 22,
     "metadata": {},
     "output_type": "execute_result"
    }
   ],
   "source": [
    "# Print label, and decode review no. 6\n",
    "\n",
    "y_test[5], decode_review(5,split='test')"
   ]
  },
  {
   "cell_type": "code",
   "execution_count": 25,
   "metadata": {},
   "outputs": [],
   "source": [
    "# Make helper function to gauge network's predictions between some simple thresholds\n",
    "\n",
    "def gauge_predictions(n):    \n",
    "    if (predictions[n] <= 0.4) and (y_test[n]==0):\n",
    "        print(f'Network correctly predicts that review {n} is negative')\n",
    "        \n",
    "    elif (predictions[n] <= 0.4) and (y_test[n]==1):\n",
    "        print(f'Network falsely predicts that review {n} is negative')\n",
    "        \n",
    "    elif (predictions[n] >= 0.7) and (y_test[n]==1):\n",
    "        print(f'Network correctly predicts that review {n}  is positive')\n",
    "        \n",
    "    elif (predictions[n] >= 0.7) and (y_test[n]==0):\n",
    "        print(f'Network falsely predicts that review {n}  is positive')\n",
    "        \n",
    "    else:\n",
    "        print(f'Network is not so sure. Review no. {n} has a probability score of {predictions[n]}')\n",
    "        "
   ]
  },
  {
   "cell_type": "code",
   "execution_count": 27,
   "metadata": {},
   "outputs": [],
   "source": [
    "# Make halper function which uses both the gauging function and the decoding function\n",
    "# Returns network's prediction as well as decoded version of review\n",
    "\n",
    "def verify_predictions(n):    \n",
    "    return gauge_predictions(n), predictions[n], decode_review(n,split='test')"
   ]
  },
  {
   "cell_type": "code",
   "execution_count": 32,
   "metadata": {},
   "outputs": [
    {
     "name": "stdout",
     "output_type": "stream",
     "text": [
      "Network correctly predicts that review 47 is negative\n"
     ]
    },
    {
     "data": {
      "text/plain": [
       "(None,\n",
       " array([9.825275e-05], dtype=float32),\n",
       " \"? house of the damned also known as ? is one of your low budget haunted house horror flicks filled with mediocre performances and cheap effects it is about a family that ? an old irish mansion and after moving in begin to experience strange phenomenon and ghostly ? including the ghost of a young girl who was murdered and buried within a wall in the ? basement the ? young daughter is then ? away into some other dimension and they seek help from a group of ? ? for help br br the ideas this film borrowed from the 1982 haunted house film ? are obvious i will say that this movie does have some slightly creepy sequences but it is sometimes very very boring the acting here is nothing special the mood is alright the score which was mostly this dramatic irish opera music was somewhat annoying and the cgi special effects are really horrible i mean it was 1996 you would think they could have done a little better than they did the ending where the house was on fire was the poorest special effect i've seen very very cheap but hey this was a cheap movie br br also the ? monster wolf thing that their daughter sees looks horribly fake and what was it's significance in the film anyway what the heck does a wolf monster have to do with a haunted house the special effects in here are what really ruined this movie the acting was pretty bad too i usually enjoy many low budget horror films but not this one house of the damned is nothing special at all only consider watching it if you have nothing better to do but you'll probably want to pass on it 4 10\")"
      ]
     },
     "execution_count": 32,
     "metadata": {},
     "output_type": "execute_result"
    }
   ],
   "source": [
    "verify_predictions(47)"
   ]
  }
 ],
 "metadata": {
  "kernelspec": {
   "display_name": "Python 3",
   "language": "python",
   "name": "python3"
  },
  "language_info": {
   "codemirror_mode": {
    "name": "ipython",
    "version": 3
   },
   "file_extension": ".py",
   "mimetype": "text/x-python",
   "name": "python",
   "nbconvert_exporter": "python",
   "pygments_lexer": "ipython3",
   "version": "3.6.8"
  }
 },
 "nbformat": 4,
 "nbformat_minor": 2
}
