{
 "cells": [
  {
   "cell_type": "markdown",
   "metadata": {},
   "source": [
    "# The Skip Gram model\n",
    "Dataset: movie review 'http://www.cs.cornell.edu/people/pabo/movie-review-data/rt-polaritydata.tar.gz' <br>\n",
    "The CBOW (continuous bag of words) is a method of word2vec. It is very similar to the skip-gram method, except it predicts a single target word from a surrounding window of context words.\n",
    "\n",
    "Skip-gram worked with combinations of window and target as a group of paired inputs and outputs, but with CBOW we will add the surrounding window embeddings together to get one embedding to predict the target word embedding."
   ]
  },
  {
   "cell_type": "code",
   "execution_count": 12,
   "metadata": {},
   "outputs": [],
   "source": [
    "\n",
    "import tensorflow as tf\n",
    "import matplotlib.pyplot as plt\n",
    "import numpy as np\n",
    "import random\n",
    "import os\n",
    "import pickle\n",
    "import string\n",
    "import requests\n",
    "import collections\n",
    "import io\n",
    "import tarfile\n",
    "import urllib.request\n",
    "from nltk.corpus import stopwords\n",
    "from tensorflow.python.framework import ops\n",
    "ops.reset_default_graph()\n",
    "\n",
    "import sys\n",
    "sys.path.insert(0, './utils')\n",
    "import text_helpers"
   ]
  },
  {
   "cell_type": "code",
   "execution_count": 13,
   "metadata": {},
   "outputs": [],
   "source": [
    "# saving directory\n",
    "data_folder_name = 'temp'\n",
    "if not os.path.exists(data_folder_name):\n",
    "    os.makedirs(data_folder_name)"
   ]
  },
  {
   "cell_type": "code",
   "execution_count": 14,
   "metadata": {},
   "outputs": [],
   "source": [
    "sess = tf.Session()"
   ]
  },
  {
   "cell_type": "code",
   "execution_count": 15,
   "metadata": {},
   "outputs": [],
   "source": [
    "batch_size = 200            # Model Batch Size\n",
    "embedding_size = 50        # word embedding size\n",
    "vocabulary_size = 2000      # Maximum vocabulary size\n",
    "generations = 50000        # number of iterations for training.\n",
    "model_learning_rate = 0.05   # Learning rate\n",
    "\n",
    "num_sampled = int(batch_size/2) # Number of negative examples to sample.\n",
    "window_size = 3                 # How many words to consider left and right.\n",
    "\n",
    "# Add checkpoints to training\n",
    "save_embeddings_every = 5000\n",
    "print_valid_every = 5000\n",
    "print_loss_every = 1000"
   ]
  },
  {
   "cell_type": "markdown",
   "metadata": {},
   "source": [
    "### Load and normalize data"
   ]
  },
  {
   "cell_type": "code",
   "execution_count": 16,
   "metadata": {},
   "outputs": [],
   "source": [
    "# Declare stop words\n",
    "stops = stopwords.words('english')\n",
    "\n",
    "# We pick some test words. We are expecting synonyms to appear\n",
    "valid_words = ['love', 'hate', 'happy', 'sad', 'man', 'woman']\n",
    "# Later we will have to transform these into indices\n",
    "\n",
    "# Load the movie review data\n",
    "texts, target = text_helpers.load_movie_data()\n",
    "\n",
    "# Normalize text\n",
    "texts = text_helpers.normalize_text(texts, stops)\n",
    "\n",
    "# Texts must contain at least 3 words\n",
    "target = [target[ix] for ix, x in enumerate(texts) if len(x.split()) > 2]\n",
    "texts = [x for x in texts if len(x.split()) > 2]"
   ]
  },
  {
   "cell_type": "code",
   "execution_count": 17,
   "metadata": {},
   "outputs": [],
   "source": [
    "# Build our data set and dictionaries\n",
    "word_dictionary = text_helpers.build_dictionary(texts, vocabulary_size)\n",
    "word_dictionary_rev = dict(zip(word_dictionary.values(), word_dictionary.keys()))\n",
    "text_data = text_helpers.text_to_numbers(texts, word_dictionary)\n",
    "\n",
    "# Get validation word keys\n",
    "valid_examples = [word_dictionary[x] for x in valid_words]"
   ]
  },
  {
   "cell_type": "markdown",
   "metadata": {},
   "source": [
    "### Construction of model"
   ]
  },
  {
   "cell_type": "code",
   "execution_count": 18,
   "metadata": {},
   "outputs": [],
   "source": [
    "# Define Embeddings:\n",
    "embeddings = tf.Variable(tf.random_uniform([vocabulary_size, embedding_size], -1.0, 1.0))\n",
    "\n",
    "# NCE loss parameters\n",
    "nce_weights = tf.Variable(tf.truncated_normal([vocabulary_size, embedding_size],\n",
    "                                               stddev=1.0 / np.sqrt(embedding_size)))\n",
    "nce_biases = tf.Variable(tf.zeros([vocabulary_size]))\n",
    "\n",
    "# Create data/target placeholders\n",
    "x_inputs = tf.placeholder(tf.int32, shape=[batch_size, 2*window_size])\n",
    "y_target = tf.placeholder(tf.int32, shape=[batch_size, 1])\n",
    "valid_dataset = tf.constant(valid_examples, dtype=tf.int32)\n",
    "\n",
    "# Lookup the word embedding\n",
    "# Add together window embeddings of the context window:\n",
    "embed = tf.zeros([batch_size, embedding_size])\n",
    "for element in range(2*window_size):\n",
    "    embed += tf.nn.embedding_lookup(embeddings, x_inputs[:, element])"
   ]
  },
  {
   "cell_type": "markdown",
   "metadata": {},
   "source": [
    "### Loss"
   ]
  },
  {
   "cell_type": "code",
   "execution_count": 19,
   "metadata": {},
   "outputs": [],
   "source": [
    "# Get loss from prediction\n",
    "loss = tf.reduce_mean(tf.nn.nce_loss(weights=nce_weights,\n",
    "                                     biases=nce_biases,\n",
    "                                     labels=y_target,\n",
    "                                     inputs=embed,\n",
    "                                     num_sampled=num_sampled,\n",
    "                                     num_classes=vocabulary_size))\n",
    "\n",
    "# Create optimizer\n",
    "optimizer = tf.train.GradientDescentOptimizer(learning_rate=model_learning_rate).minimize(loss)\n",
    "\n",
    "# Cosine similarity between words\n",
    "norm = tf.sqrt(tf.reduce_sum(tf.square(embeddings), 1, keepdims=True))\n",
    "normalized_embeddings = embeddings / norm\n",
    "valid_embeddings = tf.nn.embedding_lookup(normalized_embeddings, valid_dataset)\n",
    "similarity = tf.matmul(valid_embeddings, normalized_embeddings, transpose_b=True)"
   ]
  },
  {
   "cell_type": "code",
   "execution_count": 20,
   "metadata": {},
   "outputs": [],
   "source": [
    "# Create model saving operation\n",
    "saver = tf.train.Saver({\"embeddings\": embeddings})\n",
    "\n",
    "#Add variable initializer.\n",
    "init = tf.global_variables_initializer()\n",
    "sess.run(init)"
   ]
  },
  {
   "cell_type": "code",
   "execution_count": 21,
   "metadata": {},
   "outputs": [],
   "source": [
    "# Filter out sentences that aren't long enough:\n",
    "# the length must be at least 7: window size(3) * 2 + 1\n",
    "text_data = [x for x in text_data if len(x)>=(2*window_size+1)]"
   ]
  },
  {
   "cell_type": "markdown",
   "metadata": {},
   "source": [
    "### Training and testing"
   ]
  },
  {
   "cell_type": "code",
   "execution_count": 22,
   "metadata": {},
   "outputs": [
    {
     "name": "stdout",
     "output_type": "stream",
     "text": [
      "Loss at step 1000 : 2.382382869720459\n",
      "Loss at step 2000 : 2.1709465980529785\n",
      "Loss at step 3000 : 2.15669322013855\n",
      "Loss at step 4000 : 1.9244437217712402\n",
      "Loss at step 5000 : 1.8567508459091187\n",
      "Nearest to love: disappointing, songs, shallow, gone, pass,\n",
      "Nearest to hate: diverting, certain, particularly, promising, austin,\n",
      "Nearest to happy: heard, overthetop, better, respect, dramatic,\n",
      "Nearest to sad: mark, finds, storys, storyline, horror,\n",
      "Nearest to man: dark, evil, animation, turns, brown,\n",
      "Nearest to woman: success, minor, genres, psychological, animal,\n",
      "Loss at step 6000 : 2.621933937072754\n",
      "Loss at step 7000 : 1.6907410621643066\n",
      "Loss at step 8000 : 1.7902206182479858\n",
      "Loss at step 9000 : 1.620408296585083\n",
      "Loss at step 10000 : 1.654314398765564\n",
      "Nearest to love: disappointing, songs, shallow, gone, pass,\n",
      "Nearest to hate: diverting, certain, particularly, promising, austin,\n",
      "Nearest to happy: heard, overthetop, better, respect, dramatic,\n",
      "Nearest to sad: mark, finds, storys, storyline, horror,\n",
      "Nearest to man: dark, evil, animation, turns, brown,\n",
      "Nearest to woman: success, minor, genres, psychological, animal,\n",
      "Loss at step 11000 : 1.673588514328003\n",
      "Loss at step 12000 : 3.174663782119751\n",
      "Loss at step 13000 : 1.5604732036590576\n",
      "Loss at step 14000 : 1.4979857206344604\n",
      "Loss at step 15000 : 5.427859306335449\n",
      "Nearest to love: disappointing, songs, shallow, gone, pass,\n",
      "Nearest to hate: diverting, certain, particularly, promising, austin,\n",
      "Nearest to happy: heard, overthetop, better, respect, dramatic,\n",
      "Nearest to sad: mark, finds, storys, storyline, horror,\n",
      "Nearest to man: dark, evil, animation, turns, brown,\n",
      "Nearest to woman: success, minor, genres, psychological, animal,\n",
      "Loss at step 16000 : 1.4919655323028564\n",
      "Loss at step 17000 : 1.4484775066375732\n",
      "Loss at step 18000 : 4.486206531524658\n",
      "Loss at step 19000 : 1.5267589092254639\n",
      "Loss at step 20000 : 1.5816537141799927\n",
      "Nearest to love: disappointing, songs, shallow, gone, pass,\n",
      "Nearest to hate: diverting, certain, particularly, promising, austin,\n",
      "Nearest to happy: heard, overthetop, better, respect, dramatic,\n",
      "Nearest to sad: mark, finds, storys, storyline, horror,\n",
      "Nearest to man: dark, evil, animation, turns, brown,\n",
      "Nearest to woman: success, minor, genres, psychological, animal,\n",
      "Loss at step 21000 : 1.4137448072433472\n",
      "Loss at step 22000 : 1.4456350803375244\n",
      "Loss at step 23000 : 1.3891502618789673\n",
      "Loss at step 24000 : 1.3799573183059692\n",
      "Loss at step 25000 : 1.4905108213424683\n",
      "Nearest to love: disappointing, songs, shallow, gone, pass,\n",
      "Nearest to hate: diverting, certain, particularly, promising, austin,\n",
      "Nearest to happy: heard, overthetop, better, respect, dramatic,\n",
      "Nearest to sad: mark, finds, storys, storyline, horror,\n",
      "Nearest to man: dark, evil, animation, turns, brown,\n",
      "Nearest to woman: success, minor, genres, psychological, animal,\n",
      "Loss at step 26000 : 1.5732380151748657\n",
      "Loss at step 27000 : 1.4308902025222778\n",
      "Loss at step 28000 : 1.4217228889465332\n",
      "Loss at step 29000 : 4.35810661315918\n",
      "Loss at step 30000 : 1.341482400894165\n",
      "Nearest to love: disappointing, songs, shallow, gone, pass,\n",
      "Nearest to hate: diverting, certain, particularly, promising, austin,\n",
      "Nearest to happy: heard, overthetop, better, respect, dramatic,\n",
      "Nearest to sad: mark, finds, storys, storyline, horror,\n",
      "Nearest to man: dark, evil, animation, turns, brown,\n",
      "Nearest to woman: success, minor, genres, psychological, animal,\n",
      "Loss at step 31000 : 1.4717628955841064\n",
      "Loss at step 32000 : 1.364192247390747\n",
      "Loss at step 33000 : 1.3395155668258667\n",
      "Loss at step 34000 : 1.3670508861541748\n",
      "Loss at step 35000 : 1.4058947563171387\n",
      "Nearest to love: disappointing, songs, shallow, gone, pass,\n",
      "Nearest to hate: diverting, certain, particularly, promising, austin,\n",
      "Nearest to happy: heard, overthetop, better, respect, dramatic,\n",
      "Nearest to sad: mark, finds, storys, storyline, horror,\n",
      "Nearest to man: dark, evil, animation, turns, brown,\n",
      "Nearest to woman: success, minor, genres, psychological, animal,\n",
      "Loss at step 36000 : 1.507625699043274\n",
      "Loss at step 37000 : 1.3373637199401855\n",
      "Loss at step 38000 : 1.3878511190414429\n",
      "Loss at step 39000 : 1.4026587009429932\n",
      "Loss at step 40000 : 1.3289964199066162\n",
      "Nearest to love: disappointing, songs, shallow, gone, pass,\n",
      "Nearest to hate: diverting, certain, particularly, promising, austin,\n",
      "Nearest to happy: heard, overthetop, better, respect, dramatic,\n",
      "Nearest to sad: mark, finds, storys, storyline, horror,\n",
      "Nearest to man: dark, evil, animation, turns, brown,\n",
      "Nearest to woman: success, minor, genres, psychological, animal,\n",
      "Loss at step 41000 : 1.3843733072280884\n",
      "Loss at step 42000 : 1.3799383640289307\n",
      "Loss at step 43000 : 1.2916455268859863\n",
      "Loss at step 44000 : 1.4335769414901733\n",
      "Loss at step 45000 : 1.2954320907592773\n",
      "Nearest to love: disappointing, songs, shallow, gone, pass,\n",
      "Nearest to hate: diverting, certain, particularly, promising, austin,\n",
      "Nearest to happy: heard, overthetop, better, respect, dramatic,\n",
      "Nearest to sad: mark, finds, storys, storyline, horror,\n",
      "Nearest to man: dark, evil, animation, turns, brown,\n",
      "Nearest to woman: success, minor, genres, psychological, animal,\n",
      "Loss at step 46000 : 1.414190411567688\n",
      "Loss at step 47000 : 1.3600585460662842\n",
      "Loss at step 48000 : 1.3616582155227661\n",
      "Loss at step 49000 : 1.358411431312561\n",
      "Loss at step 50000 : 1.2938991785049438\n",
      "Nearest to love: disappointing, songs, shallow, gone, pass,\n",
      "Nearest to hate: diverting, certain, particularly, promising, austin,\n",
      "Nearest to happy: heard, overthetop, better, respect, dramatic,\n",
      "Nearest to sad: mark, finds, storys, storyline, horror,\n",
      "Nearest to man: dark, evil, animation, turns, brown,\n",
      "Nearest to woman: success, minor, genres, psychological, animal,\n"
     ]
    }
   ],
   "source": [
    "loss_vec = []\n",
    "loss_x_vec = []\n",
    "for i in range(generations):\n",
    "    batch_inputs, batch_labels = text_helpers.generate_batch_data(text_data, batch_size,\n",
    "                                                                  window_size, method='cbow')\n",
    "    feed_dict = {x_inputs : batch_inputs, y_target : batch_labels}\n",
    "\n",
    "    # Run the train step\n",
    "    sess.run(optimizer, feed_dict=feed_dict)\n",
    "\n",
    "    # Return the loss\n",
    "    if (i+1) % print_loss_every == 0:\n",
    "        loss_val = sess.run(loss, feed_dict=feed_dict)\n",
    "        loss_vec.append(loss_val)\n",
    "        loss_x_vec.append(i+1)\n",
    "        print('Loss at step {} : {}'.format(i+1, loss_val))\n",
    "      \n",
    "    # Validation: Print some random words and top 5 related words\n",
    "    if (i+1) % print_valid_every == 0:\n",
    "        sim = sess.run(similarity, feed_dict=feed_dict)\n",
    "        for j in range(len(valid_words)):\n",
    "            valid_word = word_dictionary_rev[valid_examples[j]]\n",
    "            top_k = 5 # number of nearest neighbors\n",
    "            nearest = (-sim[j, :]).argsort()[1:top_k+1]\n",
    "            log_str = \"Nearest to {}:\".format(valid_word)\n",
    "            for k in range(top_k):\n",
    "                close_word = word_dictionary_rev[nearest[k]]\n",
    "                log_str = '{} {},' .format(log_str, close_word)\n",
    "            print(log_str)\n",
    "            \n",
    "    # Save dictionary + embeddings\n",
    "    if (i+1) % save_embeddings_every == 0:\n",
    "        # Save vocabulary dictionary\n",
    "        with open(os.path.join(data_folder_name,'movie_vocab.pkl'), 'wb') as f:\n",
    "            pickle.dump(word_dictionary, f)\n",
    "        \n",
    "        # Save embeddings\n",
    "        model_checkpoint_path = os.path.join(os.getcwd(),data_folder_name,'cbow_movie_embeddings.ckpt')\n",
    "        save_path = saver.save(sess, model_checkpoint_path)"
   ]
  },
  {
   "cell_type": "code",
   "execution_count": null,
   "metadata": {},
   "outputs": [],
   "source": [
    "# Plot loss over time\n",
    "plt.plot(loss_x_vec, loss_vec, 'k-')\n",
    "plt.title('Training Loss per Generation')\n",
    "plt.xlabel('Generation')\n",
    "plt.ylabel('Loss')\n",
    "plt.show()"
   ]
  }
 ],
 "metadata": {
  "kernelspec": {
   "display_name": "Python 3",
   "language": "python",
   "name": "python3"
  },
  "language_info": {
   "codemirror_mode": {
    "name": "ipython",
    "version": 3
   },
   "file_extension": ".py",
   "mimetype": "text/x-python",
   "name": "python",
   "nbconvert_exporter": "python",
   "pygments_lexer": "ipython3",
   "version": "3.6.7"
  }
 },
 "nbformat": 4,
 "nbformat_minor": 2
}
